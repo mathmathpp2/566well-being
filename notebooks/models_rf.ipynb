{
 "cells": [
  {
   "cell_type": "code",
   "execution_count": 45,
   "metadata": {},
   "outputs": [
    {
     "name": "stdout",
     "output_type": "stream",
     "text": [
      "The autoreload extension is already loaded. To reload it, use:\n",
      "  %reload_ext autoreload\n"
     ]
    }
   ],
   "source": [
    "%load_ext autoreload\n",
    "%autoreload 2\n",
    "\n",
    "from webbrowser import get\n",
    "import pandas as pd\n",
    "from sklearn.metrics import accuracy_score, r2_score\n",
    "from models import *\n",
    "\n",
    "from pretty_logger import get_logger\n",
    "from pathlib import Path\n",
    "from utils import get_git_root\n",
    "\n",
    "project_root = get_git_root()\n",
    "\n",
    "logger = get_logger(name=\"modelslog\", full_path=Path(project_root, 'log/models.log'), add_console_hander=True)"
   ]
  },
  {
   "cell_type": "code",
   "execution_count": 46,
   "metadata": {},
   "outputs": [],
   "source": [
    "\n",
    "df = pd.read_csv(datafile)\n",
    "df[\"date\"] = pd.to_datetime(df[\"day_survey\"])\n",
    "df['C'] = df['date'].apply(lambda date: COVIDStatus.POST_COVID if date > date_covid else COVIDStatus.PRE_COVID)\n",
    "\n",
    "df_head = df.head(5).copy()\n",
    "\n",
    "df.rename(columns=reverse_ema_dictionary, inplace=True)\n",
    "df.set_index([\"uid\", \"date\"], inplace=True)\n",
    "df.dropna(subset=ema + physical + social + sleep, inplace=True)\n",
    "\n",
    "sets_df = pd.read_parquet(sets_file, engine='pyarrow')"
   ]
  },
  {
   "cell_type": "code",
   "execution_count": 47,
   "metadata": {},
   "outputs": [
    {
     "name": "stdout",
     "output_type": "stream",
     "text": [
      "Binarizing using median value (excercise median=1.10e+04)\n",
      "Directory 20240528_003338_135888 created.\n",
      "Binarizing using median value (studying median=2.72e+00)\n",
      "Directory 20240528_003338_997024 created.\n",
      "Binarizing using median value (in house median=1.14e+01)\n",
      "Directory 20240528_003339_744156 created.\n",
      "Binarizing using median value (sports median=8.33e-02)\n",
      "Directory 20240528_003340_396176 created.\n",
      "Binarizing using median value (traveling median=8.54e+02)\n",
      "Directory 20240528_003341_144906 created.\n",
      "Binarizing using median value (time in social location median=1.27e+00)\n",
      "Directory 20240528_003341_929109 created.\n",
      "Binarizing using median value (duration unlocked phone in social locations median=1.03e+01)\n",
      "Directory 20240528_003342_851687 created.\n",
      "Binarizing using median value (frequency of unlocked phone in social locations median=8.96e+00)\n",
      "Directory 20240528_003343_769631 created.\n",
      "Binarizing using median value (in house median=1.14e+01)\n",
      "Directory 20240528_003344_659468 created.\n",
      "Binarizing using median value (sports median=8.33e-02)\n",
      "Directory 20240528_003345_384676 created.\n",
      "Binarizing using median value (traveling median=8.54e+02)\n",
      "Directory 20240528_003346_053425 created.\n",
      "Binarizing using median value (time in social location median=1.27e+00)\n",
      "Directory 20240528_003346_797576 created.\n",
      "Binarizing using median value (visits median=4.70e+00)\n",
      "Directory 20240528_003347_423510 created.\n",
      "Binarizing using median value (duration unlocked phone in social locations median=1.03e+01)\n",
      "Directory 20240528_003348_210543 created.\n",
      "Binarizing using median value (frequency of unlocked phone in social locations median=8.96e+00)\n",
      "Directory 20240528_003348_830916 created.\n"
     ]
    }
   ],
   "source": [
    "import numpy as np\n",
    "index = 51\n",
    "model_rows = [sets_df.iloc[index]]\n",
    "#for index, model_row in sets_df.iterrows():\n",
    "\n",
    "n_estimatorss = [20]\n",
    "ccp_alphas = np.logspace(-3, 0, 4)\n",
    "# list of sets\n",
    "fitted_sets_of_covariates = []\n",
    "\n",
    "\n",
    "for ccp_alpha in ccp_alphas:\n",
    "    for n_estimators in n_estimatorss:\n",
    "        #for model_row in model_rows:\n",
    "        for index, model_row in sets_df.iterrows():\n",
    "            logger.info(\"\\n\")\n",
    "            logger.info(f\"Modeling treatment:{full_dictionary[model_row['treatment']]} on outcome:{full_dictionary[model_row['outcome']]}\")\n",
    "            logger.info(f\"Covariates: {set(all_covariates)}\")\n",
    "\n",
    "            # people can't change their demographics.. except maybe OS :)\n",
    "            if model_row['treatment'].startswith('D'):\n",
    "                logger.info(f\"Skippnig demographic treatment {model_row['treatment']}\")\n",
    "                continue\n",
    "\n",
    "            if model_row['outcome'] not in [\"Y2\", \"Y3\"]:\n",
    "                logger.info(\"Only doing PHQ right now\")\n",
    "                continue\n",
    "            all_covariates = [model_row['treatment']] + model_row['sets'].tolist()\n",
    "            if set(all_covariates) in fitted_sets_of_covariates:\n",
    "                logger.info(f\"already have done {set(all_covariates)}\")\n",
    "                continue\n",
    "            wbm = WBRandomForestModel(\n",
    "                data=df,\n",
    "                n_estimators=n_estimators,\n",
    "                ccp_alpha=1e-4,\n",
    "                #gamma=gamma,\n",
    "                #alpha=alpha,\n",
    "                #activation='relu',\n",
    "                #max_iter=1000,\n",
    "                #hidden_layer_sizes=(32,8,4),\n",
    "                treatment=model_row['treatment'],\n",
    "                outcome=model_row['outcome'],\n",
    "                separating_set=model_row['sets'].tolist(),\n",
    "                name=f\"row:{index}\"\n",
    "                )\n",
    "            fitted_sets_of_covariates.append(set(wbm.model_covariates))\n",
    "            logger.info(f\"ccp_alpha ={ccp_alpha}, n_estimators={n_estimators}, pre_rsq={wbm.pre_r_squared} post_r_sq={wbm.post_r_squared}\")\n",
    "            logger.info(\"-----------------------------------------------------\")\n"
   ]
  },
  {
   "cell_type": "code",
   "execution_count": 48,
   "metadata": {},
   "outputs": [],
   "source": [
    "results_df = aggregate_results_from_subfolders('.')\n",
    "results_df.to_csv('results.csv')"
   ]
  }
 ],
 "metadata": {
  "kernelspec": {
   "display_name": ".venv",
   "language": "python",
   "name": "python3"
  },
  "language_info": {
   "codemirror_mode": {
    "name": "ipython",
    "version": 3
   },
   "file_extension": ".py",
   "mimetype": "text/x-python",
   "name": "python",
   "nbconvert_exporter": "python",
   "pygments_lexer": "ipython3",
   "version": "3.11.0"
  }
 },
 "nbformat": 4,
 "nbformat_minor": 2
}
