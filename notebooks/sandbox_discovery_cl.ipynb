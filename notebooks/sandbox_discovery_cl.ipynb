{
 "cells": [
  {
   "cell_type": "code",
   "execution_count": 356,
   "id": "5dd710fd-d919-4c81-9ec8-7727d63e1d18",
   "metadata": {},
   "outputs": [
    {
     "name": "stdout",
     "output_type": "stream",
     "text": [
      "The autoreload extension is already loaded. To reload it, use:\n",
      "  %reload_ext autoreload\n"
     ]
    }
   ],
   "source": [
    "%load_ext autoreload\n",
    "%autoreload 2\n",
    "import pandas as pd\n",
    "from datetime import datetime\n",
    "from pathlib import Path\n",
    "from notebooks.utils import  *\n",
    "import networkx as nx\n",
    "import matplotlib.pyplot as plt\n",
    "from causallearn.search.ConstraintBased.PC import pc\n",
    "from causallearn.search.ConstraintBased.FCI import fci\n",
    "import logging\n",
    "from causallearn.utils.PCUtils.BackgroundKnowledge import BackgroundKnowledge\n",
    "from causallearn.utils.GraphUtils import GraphUtils\n",
    "from dowhy import CausalModel\n",
    "import dowhy.datasets\n",
    "import dowhy\n",
    "import pydot"
   ]
  },
  {
   "cell_type": "code",
   "execution_count": 357,
   "id": "26f6f896",
   "metadata": {},
   "outputs": [],
   "source": [
    "project_root = get_git_root()\n",
    "data_folder = \"data\"\n",
    "datafile = \"features.csv\"\n",
    "figsize = (10, 8)\n",
    "font_graph = 10\n",
    "font_color_graph = \"black\""
   ]
  },
  {
   "cell_type": "code",
   "execution_count": 358,
   "id": "3f3109a0",
   "metadata": {
    "notebookRunGroups": {
     "groupValue": "1"
    }
   },
   "outputs": [],
   "source": [
    "df = pd.read_csv(Path(project_root, data_folder, datafile))\n",
    "df = df.dropna(subset=\"day_survey\")"
   ]
  },
  {
   "cell_type": "code",
   "execution_count": 359,
   "id": "af243ee7",
   "metadata": {},
   "outputs": [],
   "source": [
    "num_prior_days = 10\n",
    "date_covid = datetime(2020, 3, 1)\n",
    "# rough date\n",
    "date_vaccine = datetime(2021, 4, 1)\n",
    "\n",
    "ema_dictionary = {\n",
    "    \"Y1\": \"pam\",\n",
    "    \"Y2\": \"phq2_score\",\n",
    "    \"Y3\": \"phq4_score\",\n",
    "    \"Y4\": \"gad2_score\",\n",
    "    \"Y5\": \"social_level\",\n",
    "    \"Y6\": \"sse_score\",\n",
    "    \"Y7\": \"stress\",\n",
    "}\n",
    "reverse_ema_dictionary = {v: k for k, v in ema_dictionary.items()}\n",
    "\n",
    "physical_dictionary = {\n",
    "    \"P1\": \"excercise\",\n",
    "    \"P2\": \"studying\",\n",
    "    \"P3\": \"in house\",\n",
    "    \"P4\": \"sports\",\n",
    "}\n",
    "social_dictionary = {\n",
    "    \"S1\": \"traveling\",\n",
    "    \"S2\": \"distance traveled\",\n",
    "    \"S3\": \"time in social location\",\n",
    "    \"S4\": \"visits\",\n",
    "    \"S5\": \"duration unlocked phone in social locations\",\n",
    "    \"S6\": \"frequency of unlocked phone in social locations\",\n",
    "    \"S7\": \"motion at social locations\",\n",
    "}\n",
    "\n",
    "sleep_dictionary = {\n",
    "    \"Z1\": \"sleep_duration\",\n",
    "    \"Z2\": \"sleep start time\",\n",
    "    \"Z3\": \"sleep end time\",\n",
    "}\n",
    "\n",
    "full_dictionary = (\n",
    "    physical_dictionary | social_dictionary | sleep_dictionary | ema_dictionary\n",
    ")\n",
    "\n",
    "ema = [f\"Y{i}\" for i in range(1, 8, 1)]\n",
    "physical = [f\"P{i}\" for i in range(1, 5, 1)]\n",
    "social = [f\"S{i}\" for i in range(1, 8, 1)]\n",
    "sleep = [f\"Z{i}\" for i in range(1, 4, 1)]"
   ]
  },
  {
   "cell_type": "code",
   "execution_count": 360,
   "id": "6d821bc2",
   "metadata": {},
   "outputs": [],
   "source": [
    "df[\"date\"] = pd.to_datetime(df[\"day_survey\"])\n",
    "df.rename(columns=reverse_ema_dictionary, inplace=True)\n",
    "df.set_index([\"uid\", \"date\"], inplace=True)\n",
    "df.dropna(subset=ema + physical + social + sleep, inplace=True)"
   ]
  },
  {
   "cell_type": "markdown",
   "id": "26745213",
   "metadata": {},
   "source": []
  },
  {
   "cell_type": "code",
   "execution_count": 361,
   "id": "6277d357",
   "metadata": {},
   "outputs": [
    {
     "data": {
      "text/plain": [
       "{'S1': 'traveling',\n",
       " 'S2': 'distance traveled',\n",
       " 'S3': 'time in social location',\n",
       " 'S4': 'visits',\n",
       " 'S5': 'duration unlocked phone in social locations',\n",
       " 'S6': 'frequency of unlocked phone in social locations',\n",
       " 'S7': 'motion at social locations',\n",
       " 'Y4': 'gad2_score'}"
      ]
     },
     "execution_count": 361,
     "metadata": {},
     "output_type": "execute_result"
    }
   ],
   "source": [
    "outcomes = [\"Y4\"]\n",
    "features = social\n",
    "subset = outcomes + social\n",
    "draw_dictionary = {\n",
    "    k: v for k, v in full_dictionary.items() if k in (outcomes + features)\n",
    "}\n",
    "df = df[subset]\n",
    "draw_dictionary"
   ]
  },
  {
   "cell_type": "code",
   "execution_count": 362,
   "id": "06201e82",
   "metadata": {},
   "outputs": [
    {
     "data": {
      "text/plain": [
       "{0: 'Y4', 1: 'S1', 2: 'S2', 3: 'S3', 4: 'S4', 5: 'S5', 6: 'S6', 7: 'S7'}"
      ]
     },
     "execution_count": 362,
     "metadata": {},
     "output_type": "execute_result"
    }
   ],
   "source": [
    "node_number_dictionary = {i: col for i, col in enumerate(df.columns)}\n",
    "node_number_dictionary"
   ]
  },
  {
   "cell_type": "code",
   "execution_count": 363,
   "id": "a6c1b012",
   "metadata": {},
   "outputs": [
    {
     "data": {
      "text/plain": [
       "Index(['Y4', 'S1', 'S2', 'S3', 'S4', 'S5', 'S6', 'S7'], dtype='object')"
      ]
     },
     "execution_count": 363,
     "metadata": {},
     "output_type": "execute_result"
    }
   ],
   "source": [
    "df.columns"
   ]
  },
  {
   "cell_type": "code",
   "execution_count": 364,
   "id": "eff48e12",
   "metadata": {},
   "outputs": [
    {
     "data": {
      "application/vnd.jupyter.widget-view+json": {
       "model_id": "6722ba56d8d04aab90c53cf6596b45a4",
       "version_major": 2,
       "version_minor": 0
      },
      "text/plain": [
       "  0%|          | 0/8 [00:00<?, ?it/s]"
      ]
     },
     "metadata": {},
     "output_type": "display_data"
    },
    {
     "name": "stdout",
     "output_type": "stream",
     "text": [
      "adding forbidden between Y4 and S1\n",
      "adding forbidden between Y4 and S2\n",
      "adding forbidden between Y4 and S3\n",
      "adding forbidden between Y4 and S4\n",
      "adding forbidden between Y4 and S5\n",
      "adding forbidden between Y4 and S6\n",
      "adding forbidden between Y4 and S7\n"
     ]
    }
   ],
   "source": [
    "cg = pc(np.vstack(df.to_numpy()))\n",
    "\n",
    "for index, node in enumerate(cg.G.nodes):\n",
    "    node_name = df.columns[index]\n",
    "    cg.G.nodes[index][\"label\"] = node_name\n",
    "bk = BackgroundKnowledge()\n",
    "\n",
    "for node in range(1, len(df.columns)):\n",
    "    print(\n",
    "        f\"adding forbidden between {cg.G.nodes[0]['label']} and {cg.G.nodes[node]['label']}\"\n",
    "    )\n",
    "    bk.add_forbidden_by_node(cg.G.nodes[0], cg.G.nodes[node])\n",
    "\n",
    "parameters = {\n",
    "    \"alpha\": 0.05,\n",
    "    \"node_names\": df.columns,\n",
    "    \"independence_test_method\": \"fisherz\",\n",
    "    \"background_knowledge\": bk,\n",
    "}"
   ]
  },
  {
   "cell_type": "code",
   "execution_count": 365,
   "id": "2e5711c3",
   "metadata": {},
   "outputs": [
    {
     "data": {
      "application/vnd.jupyter.widget-view+json": {
       "model_id": "66e4e55a4cfe4521a71fb25aa489788c",
       "version_major": 2,
       "version_minor": 0
      },
      "text/plain": [
       "  0%|          | 0/8 [00:00<?, ?it/s]"
      ]
     },
     "metadata": {},
     "output_type": "display_data"
    },
    {
     "name": "stdout",
     "output_type": "stream",
     "text": [
      "Starting BK Orientation.\n",
      "Orienting edge (Knowledge): X3 --> X1\n",
      "Orienting edge (Knowledge): X5 --> X1\n",
      "Orienting edge (Knowledge): X7 --> X1\n",
      "Orienting edge (Knowledge): X8 --> X1\n",
      "Finishing BK Orientation.\n",
      "Starting BK Orientation.\n",
      "Orienting edge (Knowledge): X3 --> X1\n",
      "Orienting edge (Knowledge): X5 --> X1\n",
      "Orienting edge (Knowledge): X7 --> X1\n",
      "Orienting edge (Knowledge): X8 --> X1\n",
      "Finishing BK Orientation.\n",
      "X3 --> X1\n",
      "X5 --> X1\n",
      "X7 --> X1\n",
      "X8 --> X1\n",
      "X2 --> X4\n",
      "X2 --> X5\n",
      "X6 --> X2\n",
      "X5 --> X4\n"
     ]
    }
   ],
   "source": [
    "fci_g, edges = fci(np.vstack(df.to_numpy()), **parameters)\n",
    "\n",
    "pyd_pc = GraphUtils.to_pydot(pc_g.G)\n",
    "pyd_fci = GraphUtils.to_pydot(fci_g, edges=edges, labels=df.columns)\n",
    "\n",
    "pyd_fci.write_png(\"fci.png\")\n",
    "pyd_pc.write_png(\"pc.png\")\n",
    "\n",
    "\n",
    "pyd_pc.write_dot(\"pc.dot\")\n",
    "pyd_fci.write_dot(\"fci.dot\")"
   ]
  },
  {
   "cell_type": "code",
   "execution_count": 366,
   "id": "946c7f95",
   "metadata": {},
   "outputs": [],
   "source": [
    "model = CausalModel(\n",
    "    data=df,\n",
    "    treatment=\"1\",\n",
    "    outcome=\"0\",\n",
    "    graph=\"fci.dot\",\n",
    ")\n",
    "model.logger.setLevel(logging.WARNING)"
   ]
  },
  {
   "cell_type": "code",
   "execution_count": 367,
   "id": "9ae3b419",
   "metadata": {},
   "outputs": [],
   "source": [
    "ied = model.identify_effect(estimand_type=\"nonparametric-ate\")"
   ]
  },
  {
   "cell_type": "code",
   "execution_count": 368,
   "id": "ac90d630",
   "metadata": {},
   "outputs": [
    {
     "name": "stdout",
     "output_type": "stream",
     "text": [
      "Estimand type: EstimandType.NONPARAMETRIC_ATE\n",
      "\n",
      "### Estimand : 1\n",
      "Estimand name: backdoor\n",
      "No such variable(s) found!\n",
      "\n",
      "### Estimand : 2\n",
      "Estimand name: iv\n",
      "No such variable(s) found!\n",
      "\n",
      "### Estimand : 3\n",
      "Estimand name: frontdoor\n",
      "No such variable(s) found!\n",
      "\n"
     ]
    }
   ],
   "source": [
    "print(ied)"
   ]
  }
 ],
 "metadata": {
  "kernelspec": {
   "display_name": "Python 3 (ipykernel)",
   "language": "python",
   "name": "python3"
  },
  "language_info": {
   "codemirror_mode": {
    "name": "ipython",
    "version": 3
   },
   "file_extension": ".py",
   "mimetype": "text/x-python",
   "name": "python",
   "nbconvert_exporter": "python",
   "pygments_lexer": "ipython3",
   "version": "3.11.0"
  }
 },
 "nbformat": 4,
 "nbformat_minor": 5
}
