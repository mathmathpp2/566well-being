{
 "cells": [
  {
   "cell_type": "code",
   "execution_count": 412,
   "id": "5dd710fd-d919-4c81-9ec8-7727d63e1d18",
   "metadata": {},
   "outputs": [
    {
     "name": "stdout",
     "output_type": "stream",
     "text": [
      "The autoreload extension is already loaded. To reload it, use:\n",
      "  %reload_ext autoreload\n"
     ]
    }
   ],
   "source": [
    "%load_ext autoreload\n",
    "%autoreload 2\n",
    "import pandas as pd\n",
    "from datetime import datetime\n",
    "from pathlib import Path\n",
    "from notebooks.utils import  *\n",
    "import networkx as nx\n",
    "import matplotlib.pyplot as plt\n",
    "from causallearn.search.ConstraintBased.PC import pc\n",
    "from causallearn.search.ConstraintBased.FCI import fci\n",
    "import logging\n",
    "from causallearn.utils.PCUtils.BackgroundKnowledge import BackgroundKnowledge\n",
    "from causallearn.utils.GraphUtils import GraphUtils\n",
    "from dowhy import CausalModel\n",
    "import dowhy.datasets\n",
    "import dowhy\n",
    "import pydot"
   ]
  },
  {
   "cell_type": "code",
   "execution_count": 413,
   "id": "26f6f896",
   "metadata": {},
   "outputs": [],
   "source": [
    "project_root = get_git_root()\n",
    "data_folder = \"data\"\n",
    "datafile = \"features.csv\"\n",
    "figsize = (10, 8)\n",
    "font_graph = 10\n",
    "font_color_graph = \"black\""
   ]
  },
  {
   "cell_type": "code",
   "execution_count": 414,
   "id": "3f3109a0",
   "metadata": {
    "notebookRunGroups": {
     "groupValue": "1"
    }
   },
   "outputs": [],
   "source": [
    "df = pd.read_csv(Path(project_root, data_folder, datafile))\n",
    "df = df.dropna(subset=\"day_survey\")"
   ]
  },
  {
   "cell_type": "code",
   "execution_count": 415,
   "id": "af243ee7",
   "metadata": {},
   "outputs": [],
   "source": [
    "num_prior_days = 10\n",
    "date_covid = datetime(2020, 3, 1)\n",
    "# rough date\n",
    "date_vaccine = datetime(2021, 4, 1)\n",
    "\n",
    "ema_dictionary = {\n",
    "    \"Y1\": \"pam\",\n",
    "    \"Y2\": \"phq2_score\",\n",
    "    \"Y3\": \"phq4_score\",\n",
    "    \"Y4\": \"gad2_score\",\n",
    "    \"Y5\": \"social_level\",\n",
    "    \"Y6\": \"sse_score\",\n",
    "    \"Y7\": \"stress\",\n",
    "}\n",
    "reverse_ema_dictionary = {v: k for k, v in ema_dictionary.items()}\n",
    "\n",
    "physical_dictionary = {\n",
    "    \"P1\": \"excercise\",\n",
    "    \"P2\": \"studying\",\n",
    "    \"P3\": \"in house\",\n",
    "    \"P4\": \"sports\",\n",
    "}\n",
    "social_dictionary = {\n",
    "    \"S1\": \"traveling\",\n",
    "    \"S2\": \"distance traveled\",\n",
    "    \"S3\": \"time in social location\",\n",
    "    \"S4\": \"visits\",\n",
    "    \"S5\": \"duration unlocked phone in social locations\",\n",
    "    \"S6\": \"frequency of unlocked phone in social locations\",\n",
    "    \"S7\": \"motion at social locations\",\n",
    "}\n",
    "\n",
    "sleep_dictionary = {\n",
    "    \"Z1\": \"sleep_duration\",\n",
    "    \"Z2\": \"sleep start time\",\n",
    "    \"Z3\": \"sleep end time\",\n",
    "}\n",
    "\n",
    "full_dictionary = (\n",
    "    physical_dictionary | social_dictionary | sleep_dictionary | ema_dictionary\n",
    ")\n",
    "\n",
    "ema = [f\"Y{i}\" for i in range(1, 8, 1)]\n",
    "physical = [f\"P{i}\" for i in range(1, 5, 1)]\n",
    "social = [f\"S{i}\" for i in range(1, 8, 1)]\n",
    "sleep = [f\"Z{i}\" for i in range(1, 4, 1)]"
   ]
  },
  {
   "cell_type": "code",
   "execution_count": 416,
   "id": "6d821bc2",
   "metadata": {},
   "outputs": [],
   "source": [
    "df[\"date\"] = pd.to_datetime(df[\"day_survey\"])\n",
    "df.rename(columns=reverse_ema_dictionary, inplace=True)\n",
    "df.set_index([\"uid\", \"date\"], inplace=True)\n",
    "df.dropna(subset=ema + physical + social + sleep, inplace=True)"
   ]
  },
  {
   "cell_type": "markdown",
   "id": "26745213",
   "metadata": {},
   "source": []
  },
  {
   "cell_type": "code",
   "execution_count": 417,
   "id": "6277d357",
   "metadata": {},
   "outputs": [
    {
     "data": {
      "text/plain": [
       "{'S1': 'traveling',\n",
       " 'S2': 'distance traveled',\n",
       " 'S3': 'time in social location',\n",
       " 'S4': 'visits',\n",
       " 'S5': 'duration unlocked phone in social locations',\n",
       " 'S6': 'frequency of unlocked phone in social locations',\n",
       " 'S7': 'motion at social locations',\n",
       " 'Y4': 'gad2_score'}"
      ]
     },
     "execution_count": 417,
     "metadata": {},
     "output_type": "execute_result"
    }
   ],
   "source": [
    "outcomes = [\"Y4\"]\n",
    "features = social\n",
    "subset = outcomes + social\n",
    "draw_dictionary = {\n",
    "    k: v for k, v in full_dictionary.items() if k in (outcomes + features)\n",
    "}\n",
    "df = df[subset]\n",
    "draw_dictionary"
   ]
  },
  {
   "cell_type": "code",
   "execution_count": 418,
   "id": "06201e82",
   "metadata": {},
   "outputs": [
    {
     "data": {
      "text/plain": [
       "{0: 'Y4', 1: 'S1', 2: 'S2', 3: 'S3', 4: 'S4', 5: 'S5', 6: 'S6', 7: 'S7'}"
      ]
     },
     "execution_count": 418,
     "metadata": {},
     "output_type": "execute_result"
    }
   ],
   "source": [
    "node_number_dictionary = {i: col for i, col in enumerate(df.columns)}\n",
    "node_number_dictionary"
   ]
  },
  {
   "cell_type": "code",
   "execution_count": 419,
   "id": "a6c1b012",
   "metadata": {},
   "outputs": [
    {
     "data": {
      "text/plain": [
       "Index(['Y4', 'S1', 'S2', 'S3', 'S4', 'S5', 'S6', 'S7'], dtype='object')"
      ]
     },
     "execution_count": 419,
     "metadata": {},
     "output_type": "execute_result"
    }
   ],
   "source": [
    "df.columns"
   ]
  },
  {
   "cell_type": "code",
   "execution_count": 420,
   "id": "eff48e12",
   "metadata": {},
   "outputs": [
    {
     "data": {
      "application/vnd.jupyter.widget-view+json": {
       "model_id": "c90b9e6465c7429c85b4d57b07a327c3",
       "version_major": 2,
       "version_minor": 0
      },
      "text/plain": [
       "  0%|          | 0/8 [00:00<?, ?it/s]"
      ]
     },
     "metadata": {},
     "output_type": "display_data"
    },
    {
     "name": "stdout",
     "output_type": "stream",
     "text": [
      "adding forbidden between Y4 and S1\n",
      "adding forbidden between Y4 and S2\n",
      "adding forbidden between Y4 and S3\n",
      "adding forbidden between Y4 and S4\n",
      "adding forbidden between Y4 and S5\n",
      "adding forbidden between Y4 and S6\n",
      "adding forbidden between Y4 and S7\n"
     ]
    }
   ],
   "source": [
    "cg = pc(np.vstack(df.to_numpy()))\n",
    "\n",
    "for index, node in enumerate(cg.G.nodes):\n",
    "    node_name = df.columns[index]\n",
    "    cg.G.nodes[index][\"label\"] = node_name\n",
    "bk = BackgroundKnowledge()\n",
    "\n",
    "for node in range(1, len(df.columns)):\n",
    "    print(\n",
    "        f\"adding forbidden between {cg.G.nodes[0]['label']} and {cg.G.nodes[node]['label']}\"\n",
    "    )\n",
    "    bk.add_forbidden_by_node(cg.G.nodes[0], cg.G.nodes[node])\n",
    "\n",
    "parameters = {\n",
    "    \"alpha\": 0.05,\n",
    "    \"node_names\": df.columns,\n",
    "    \"independence_test_method\": \"fisherz\",\n",
    "    \"background_knowledge\": bk,\n",
    "}"
   ]
  },
  {
   "cell_type": "code",
   "execution_count": 433,
   "id": "2e5711c3",
   "metadata": {},
   "outputs": [
    {
     "data": {
      "application/vnd.jupyter.widget-view+json": {
       "model_id": "aa47d15f0d384584ad152a46ff2fabb4",
       "version_major": 2,
       "version_minor": 0
      },
      "text/plain": [
       "  0%|          | 0/8 [00:00<?, ?it/s]"
      ]
     },
     "metadata": {},
     "output_type": "display_data"
    },
    {
     "name": "stdout",
     "output_type": "stream",
     "text": [
      "Starting BK Orientation.\n",
      "Orienting edge (Knowledge): X3 --> X1\n",
      "Orienting edge (Knowledge): X5 --> X1\n",
      "Orienting edge (Knowledge): X7 --> X1\n",
      "Orienting edge (Knowledge): X8 --> X1\n",
      "Finishing BK Orientation.\n",
      "Starting BK Orientation.\n",
      "Orienting edge (Knowledge): X3 --> X1\n",
      "Orienting edge (Knowledge): X5 --> X1\n",
      "Orienting edge (Knowledge): X7 --> X1\n",
      "Orienting edge (Knowledge): X8 --> X1\n",
      "Finishing BK Orientation.\n",
      "X3 --> X1\n",
      "X5 --> X1\n",
      "X7 --> X1\n",
      "X8 --> X1\n",
      "X2 --> X4\n",
      "X2 --> X5\n",
      "X6 --> X2\n",
      "X5 --> X4\n"
     ]
    },
    {
     "data": {
      "application/vnd.jupyter.widget-view+json": {
       "model_id": "f91293308401445192f642fa831331ae",
       "version_major": 2,
       "version_minor": 0
      },
      "text/plain": [
       "  0%|          | 0/8 [00:00<?, ?it/s]"
      ]
     },
     "metadata": {},
     "output_type": "display_data"
    }
   ],
   "source": [
    "fci_g, edges = fci(np.vstack(df.to_numpy()), **parameters)\n",
    "\n",
    "for index, node in enumerate(fci_g.nodes):\n",
    "    node.name = df.columns[index]\n",
    "\n",
    "pc_g = pc(np.vstack(df.to_numpy()), **parameters)\n",
    "\n",
    "pyd_pc = GraphUtils.to_pydot(pc_g.G)\n",
    "pyd_fci = GraphUtils.to_pydot(fci_g, edges=edges, labels=df.columns)\n",
    "\n",
    "pyd_fci.write_png(\"fci.png\")\n",
    "pyd_pc.write_png(\"pc.png\")\n",
    "\n",
    "\n",
    "pyd_pc.write_dot(\"pc.dot\")\n",
    "pyd_fci.write_dot(\"fci.dot\")"
   ]
  },
  {
   "cell_type": "code",
   "execution_count": 434,
   "id": "946c7f95",
   "metadata": {},
   "outputs": [],
   "source": [
    "model = CausalModel(\n",
    "    data=df,\n",
    "    treatment=\"4\",\n",
    "    outcome=\"0\",\n",
    "    graph=\"fci.dot\",\n",
    ")\n",
    "model.logger.setLevel(logging.WARNING)"
   ]
  },
  {
   "cell_type": "code",
   "execution_count": 435,
   "id": "9ae3b419",
   "metadata": {},
   "outputs": [
    {
     "ename": "NetworkXError",
     "evalue": "graph should be directed acyclic",
     "output_type": "error",
     "traceback": [
      "\u001b[0;31m---------------------------------------------------------------------------\u001b[0m",
      "\u001b[0;31mNetworkXError\u001b[0m                             Traceback (most recent call last)",
      "Cell \u001b[0;32mIn[435], line 1\u001b[0m\n\u001b[0;32m----> 1\u001b[0m ied \u001b[38;5;241m=\u001b[39m \u001b[43mmodel\u001b[49m\u001b[38;5;241;43m.\u001b[39;49m\u001b[43midentify_effect\u001b[49m\u001b[43m(\u001b[49m\u001b[43mestimand_type\u001b[49m\u001b[38;5;241;43m=\u001b[39;49m\u001b[38;5;124;43m\"\u001b[39;49m\u001b[38;5;124;43mnonparametric-ate\u001b[39;49m\u001b[38;5;124;43m\"\u001b[39;49m\u001b[43m)\u001b[49m\n",
      "File \u001b[0;32m~/Documents/Classes/566/Project/566well-being/566env/lib/python3.11/site-packages/dowhy/causal_model.py:239\u001b[0m, in \u001b[0;36mCausalModel.identify_effect\u001b[0;34m(self, estimand_type, method_name, proceed_when_unidentifiable, optimize_backdoor)\u001b[0m\n\u001b[1;32m    232\u001b[0m \u001b[38;5;28;01melse\u001b[39;00m:\n\u001b[1;32m    233\u001b[0m     identifier \u001b[38;5;241m=\u001b[39m AutoIdentifier(\n\u001b[1;32m    234\u001b[0m         estimand_type\u001b[38;5;241m=\u001b[39mestimand_type,\n\u001b[1;32m    235\u001b[0m         backdoor_adjustment\u001b[38;5;241m=\u001b[39mBackdoorAdjustment(method_name),\n\u001b[1;32m    236\u001b[0m         optimize_backdoor\u001b[38;5;241m=\u001b[39moptimize_backdoor,\n\u001b[1;32m    237\u001b[0m     )\n\u001b[0;32m--> 239\u001b[0m identified_estimand \u001b[38;5;241m=\u001b[39m \u001b[43midentifier\u001b[49m\u001b[38;5;241;43m.\u001b[39;49m\u001b[43midentify_effect\u001b[49m\u001b[43m(\u001b[49m\n\u001b[1;32m    240\u001b[0m \u001b[43m    \u001b[49m\u001b[43mgraph\u001b[49m\u001b[38;5;241;43m=\u001b[39;49m\u001b[38;5;28;43mself\u001b[39;49m\u001b[38;5;241;43m.\u001b[39;49m\u001b[43m_graph\u001b[49m\u001b[38;5;241;43m.\u001b[39;49m\u001b[43m_graph\u001b[49m\u001b[43m,\u001b[49m\n\u001b[1;32m    241\u001b[0m \u001b[43m    \u001b[49m\u001b[43maction_nodes\u001b[49m\u001b[38;5;241;43m=\u001b[39;49m\u001b[38;5;28;43mself\u001b[39;49m\u001b[38;5;241;43m.\u001b[39;49m\u001b[43m_treatment\u001b[49m\u001b[43m,\u001b[49m\n\u001b[1;32m    242\u001b[0m \u001b[43m    \u001b[49m\u001b[43moutcome_nodes\u001b[49m\u001b[38;5;241;43m=\u001b[39;49m\u001b[38;5;28;43mself\u001b[39;49m\u001b[38;5;241;43m.\u001b[39;49m\u001b[43m_outcome\u001b[49m\u001b[43m,\u001b[49m\n\u001b[1;32m    243\u001b[0m \u001b[43m    \u001b[49m\u001b[43mobserved_nodes\u001b[49m\u001b[38;5;241;43m=\u001b[39;49m\u001b[38;5;28;43mlist\u001b[39;49m\u001b[43m(\u001b[49m\u001b[38;5;28;43mself\u001b[39;49m\u001b[38;5;241;43m.\u001b[39;49m\u001b[43m_graph\u001b[49m\u001b[38;5;241;43m.\u001b[39;49m\u001b[43mget_all_nodes\u001b[49m\u001b[43m(\u001b[49m\u001b[43minclude_unobserved\u001b[49m\u001b[38;5;241;43m=\u001b[39;49m\u001b[38;5;28;43;01mFalse\u001b[39;49;00m\u001b[43m)\u001b[49m\u001b[43m)\u001b[49m\u001b[43m,\u001b[49m\n\u001b[1;32m    244\u001b[0m \u001b[43m\u001b[49m\u001b[43m)\u001b[49m\n\u001b[1;32m    246\u001b[0m \u001b[38;5;28mself\u001b[39m\u001b[38;5;241m.\u001b[39midentifier \u001b[38;5;241m=\u001b[39m identifier\n\u001b[1;32m    248\u001b[0m \u001b[38;5;28;01mreturn\u001b[39;00m identified_estimand\n",
      "File \u001b[0;32m~/Documents/Classes/566/Project/566well-being/566env/lib/python3.11/site-packages/dowhy/causal_identifier/auto_identifier.py:101\u001b[0m, in \u001b[0;36mAutoIdentifier.identify_effect\u001b[0;34m(self, graph, action_nodes, outcome_nodes, observed_nodes, conditional_node_names)\u001b[0m\n\u001b[1;32m     93\u001b[0m \u001b[38;5;28;01mdef\u001b[39;00m \u001b[38;5;21midentify_effect\u001b[39m(\n\u001b[1;32m     94\u001b[0m     \u001b[38;5;28mself\u001b[39m,\n\u001b[1;32m     95\u001b[0m     graph: nx\u001b[38;5;241m.\u001b[39mDiGraph,\n\u001b[0;32m   (...)\u001b[0m\n\u001b[1;32m     99\u001b[0m     conditional_node_names: List[\u001b[38;5;28mstr\u001b[39m] \u001b[38;5;241m=\u001b[39m \u001b[38;5;28;01mNone\u001b[39;00m,\n\u001b[1;32m    100\u001b[0m ):\n\u001b[0;32m--> 101\u001b[0m     estimand \u001b[38;5;241m=\u001b[39m \u001b[43midentify_effect_auto\u001b[49m\u001b[43m(\u001b[49m\n\u001b[1;32m    102\u001b[0m \u001b[43m        \u001b[49m\u001b[43mgraph\u001b[49m\u001b[43m,\u001b[49m\n\u001b[1;32m    103\u001b[0m \u001b[43m        \u001b[49m\u001b[43maction_nodes\u001b[49m\u001b[43m,\u001b[49m\n\u001b[1;32m    104\u001b[0m \u001b[43m        \u001b[49m\u001b[43moutcome_nodes\u001b[49m\u001b[43m,\u001b[49m\n\u001b[1;32m    105\u001b[0m \u001b[43m        \u001b[49m\u001b[43mobserved_nodes\u001b[49m\u001b[43m,\u001b[49m\n\u001b[1;32m    106\u001b[0m \u001b[43m        \u001b[49m\u001b[38;5;28;43mself\u001b[39;49m\u001b[38;5;241;43m.\u001b[39;49m\u001b[43mestimand_type\u001b[49m\u001b[43m,\u001b[49m\n\u001b[1;32m    107\u001b[0m \u001b[43m        \u001b[49m\u001b[43mconditional_node_names\u001b[49m\u001b[43m,\u001b[49m\n\u001b[1;32m    108\u001b[0m \u001b[43m        \u001b[49m\u001b[38;5;28;43mself\u001b[39;49m\u001b[38;5;241;43m.\u001b[39;49m\u001b[43mbackdoor_adjustment\u001b[49m\u001b[43m,\u001b[49m\n\u001b[1;32m    109\u001b[0m \u001b[43m        \u001b[49m\u001b[38;5;28;43mself\u001b[39;49m\u001b[38;5;241;43m.\u001b[39;49m\u001b[43moptimize_backdoor\u001b[49m\u001b[43m,\u001b[49m\n\u001b[1;32m    110\u001b[0m \u001b[43m        \u001b[49m\u001b[38;5;28;43mself\u001b[39;49m\u001b[38;5;241;43m.\u001b[39;49m\u001b[43mcosts\u001b[49m\u001b[43m,\u001b[49m\n\u001b[1;32m    111\u001b[0m \u001b[43m    \u001b[49m\u001b[43m)\u001b[49m\n\u001b[1;32m    113\u001b[0m     estimand\u001b[38;5;241m.\u001b[39midentifier \u001b[38;5;241m=\u001b[39m \u001b[38;5;28mself\u001b[39m\n\u001b[1;32m    115\u001b[0m     \u001b[38;5;28;01mreturn\u001b[39;00m estimand\n",
      "File \u001b[0;32m~/Documents/Classes/566/Project/566well-being/566env/lib/python3.11/site-packages/dowhy/causal_identifier/auto_identifier.py:178\u001b[0m, in \u001b[0;36midentify_effect_auto\u001b[0;34m(graph, action_nodes, outcome_nodes, observed_nodes, estimand_type, conditional_node_names, backdoor_adjustment, optimize_backdoor, costs)\u001b[0m\n\u001b[1;32m    171\u001b[0m     \u001b[38;5;28;01mreturn\u001b[39;00m IdentifiedEstimand(\n\u001b[1;32m    172\u001b[0m         \u001b[38;5;28;01mNone\u001b[39;00m,\n\u001b[1;32m    173\u001b[0m         treatment_variable\u001b[38;5;241m=\u001b[39maction_nodes,\n\u001b[1;32m    174\u001b[0m         outcome_variable\u001b[38;5;241m=\u001b[39moutcome_nodes,\n\u001b[1;32m    175\u001b[0m         no_directed_path\u001b[38;5;241m=\u001b[39m\u001b[38;5;28;01mTrue\u001b[39;00m,\n\u001b[1;32m    176\u001b[0m     )\n\u001b[1;32m    177\u001b[0m \u001b[38;5;28;01mif\u001b[39;00m estimand_type \u001b[38;5;241m==\u001b[39m EstimandType\u001b[38;5;241m.\u001b[39mNONPARAMETRIC_ATE:\n\u001b[0;32m--> 178\u001b[0m     \u001b[38;5;28;01mreturn\u001b[39;00m \u001b[43midentify_ate_effect\u001b[49m\u001b[43m(\u001b[49m\n\u001b[1;32m    179\u001b[0m \u001b[43m        \u001b[49m\u001b[43mgraph\u001b[49m\u001b[43m,\u001b[49m\n\u001b[1;32m    180\u001b[0m \u001b[43m        \u001b[49m\u001b[43maction_nodes\u001b[49m\u001b[43m,\u001b[49m\n\u001b[1;32m    181\u001b[0m \u001b[43m        \u001b[49m\u001b[43moutcome_nodes\u001b[49m\u001b[43m,\u001b[49m\n\u001b[1;32m    182\u001b[0m \u001b[43m        \u001b[49m\u001b[43mobserved_nodes\u001b[49m\u001b[43m,\u001b[49m\n\u001b[1;32m    183\u001b[0m \u001b[43m        \u001b[49m\u001b[43mbackdoor_adjustment\u001b[49m\u001b[43m,\u001b[49m\n\u001b[1;32m    184\u001b[0m \u001b[43m        \u001b[49m\u001b[43moptimize_backdoor\u001b[49m\u001b[43m,\u001b[49m\n\u001b[1;32m    185\u001b[0m \u001b[43m        \u001b[49m\u001b[43mestimand_type\u001b[49m\u001b[43m,\u001b[49m\n\u001b[1;32m    186\u001b[0m \u001b[43m        \u001b[49m\u001b[43mcosts\u001b[49m\u001b[43m,\u001b[49m\n\u001b[1;32m    187\u001b[0m \u001b[43m        \u001b[49m\u001b[43mconditional_node_names\u001b[49m\u001b[43m,\u001b[49m\n\u001b[1;32m    188\u001b[0m \u001b[43m    \u001b[49m\u001b[43m)\u001b[49m\n\u001b[1;32m    189\u001b[0m \u001b[38;5;28;01melif\u001b[39;00m estimand_type \u001b[38;5;241m==\u001b[39m EstimandType\u001b[38;5;241m.\u001b[39mNONPARAMETRIC_NDE:\n\u001b[1;32m    190\u001b[0m     \u001b[38;5;28;01mreturn\u001b[39;00m identify_nde_effect(\n\u001b[1;32m    191\u001b[0m         graph, action_nodes, outcome_nodes, observed_nodes, backdoor_adjustment, estimand_type\n\u001b[1;32m    192\u001b[0m     )\n",
      "File \u001b[0;32m~/Documents/Classes/566/Project/566well-being/566env/lib/python3.11/site-packages/dowhy/causal_identifier/auto_identifier.py:231\u001b[0m, in \u001b[0;36midentify_ate_effect\u001b[0;34m(graph, action_nodes, outcome_nodes, observed_nodes, backdoor_adjustment, optimize_backdoor, estimand_type, costs, conditional_node_names)\u001b[0m\n\u001b[1;32m    228\u001b[0m \u001b[38;5;28;01mif\u001b[39;00m backdoor_adjustment \u001b[38;5;129;01mnot\u001b[39;00m \u001b[38;5;129;01min\u001b[39;00m EFFICIENT_METHODS:\n\u001b[1;32m    229\u001b[0m     \u001b[38;5;66;03m# First, checking if there are any valid backdoor adjustment sets\u001b[39;00m\n\u001b[1;32m    230\u001b[0m     \u001b[38;5;28;01mif\u001b[39;00m optimize_backdoor \u001b[38;5;241m==\u001b[39m \u001b[38;5;28;01mFalse\u001b[39;00m:\n\u001b[0;32m--> 231\u001b[0m         backdoor_sets \u001b[38;5;241m=\u001b[39m \u001b[43midentify_backdoor\u001b[49m\u001b[43m(\u001b[49m\u001b[43mgraph\u001b[49m\u001b[43m,\u001b[49m\u001b[43m \u001b[49m\u001b[43maction_nodes\u001b[49m\u001b[43m,\u001b[49m\u001b[43m \u001b[49m\u001b[43moutcome_nodes\u001b[49m\u001b[43m,\u001b[49m\u001b[43m \u001b[49m\u001b[43mobserved_nodes\u001b[49m\u001b[43m,\u001b[49m\u001b[43m \u001b[49m\u001b[43mbackdoor_adjustment\u001b[49m\u001b[43m)\u001b[49m\n\u001b[1;32m    232\u001b[0m     \u001b[38;5;28;01melse\u001b[39;00m:\n\u001b[1;32m    233\u001b[0m         \u001b[38;5;28;01mfrom\u001b[39;00m \u001b[38;5;21;01mdowhy\u001b[39;00m\u001b[38;5;21;01m.\u001b[39;00m\u001b[38;5;21;01mcausal_identifier\u001b[39;00m\u001b[38;5;21;01m.\u001b[39;00m\u001b[38;5;21;01mbackdoor\u001b[39;00m \u001b[38;5;28;01mimport\u001b[39;00m Backdoor\n",
      "File \u001b[0;32m~/Documents/Classes/566/Project/566well-being/566env/lib/python3.11/site-packages/dowhy/causal_identifier/auto_identifier.py:514\u001b[0m, in \u001b[0;36midentify_backdoor\u001b[0;34m(graph, action_nodes, outcome_nodes, observed_nodes, backdoor_adjustment, include_unobserved, dseparation_algo, direct_effect)\u001b[0m\n\u001b[1;32m    512\u001b[0m \u001b[38;5;66;03m# First, checking if empty set is a valid backdoor set\u001b[39;00m\n\u001b[1;32m    513\u001b[0m empty_set \u001b[38;5;241m=\u001b[39m \u001b[38;5;28mset\u001b[39m()\n\u001b[0;32m--> 514\u001b[0m check \u001b[38;5;241m=\u001b[39m \u001b[43mcheck_valid_backdoor_set\u001b[49m\u001b[43m(\u001b[49m\n\u001b[1;32m    515\u001b[0m \u001b[43m    \u001b[49m\u001b[43mgraph\u001b[49m\u001b[43m,\u001b[49m\n\u001b[1;32m    516\u001b[0m \u001b[43m    \u001b[49m\u001b[43maction_nodes\u001b[49m\u001b[43m,\u001b[49m\n\u001b[1;32m    517\u001b[0m \u001b[43m    \u001b[49m\u001b[43moutcome_nodes\u001b[49m\u001b[43m,\u001b[49m\n\u001b[1;32m    518\u001b[0m \u001b[43m    \u001b[49m\u001b[43mempty_set\u001b[49m\u001b[43m,\u001b[49m\n\u001b[1;32m    519\u001b[0m \u001b[43m    \u001b[49m\u001b[43mbackdoor_paths\u001b[49m\u001b[38;5;241;43m=\u001b[39;49m\u001b[43mbackdoor_paths\u001b[49m\u001b[43m,\u001b[49m\n\u001b[1;32m    520\u001b[0m \u001b[43m    \u001b[49m\u001b[43mnew_graph\u001b[49m\u001b[38;5;241;43m=\u001b[39;49m\u001b[43mbdoor_graph\u001b[49m\u001b[43m,\u001b[49m\n\u001b[1;32m    521\u001b[0m \u001b[43m    \u001b[49m\u001b[43mdseparation_algo\u001b[49m\u001b[38;5;241;43m=\u001b[39;49m\u001b[43mdseparation_algo\u001b[49m\u001b[43m,\u001b[49m\n\u001b[1;32m    522\u001b[0m \u001b[43m\u001b[49m\u001b[43m)\u001b[49m\n\u001b[1;32m    523\u001b[0m \u001b[38;5;28;01mif\u001b[39;00m check[\u001b[38;5;124m\"\u001b[39m\u001b[38;5;124mis_dseparated\u001b[39m\u001b[38;5;124m\"\u001b[39m]:\n\u001b[1;32m    524\u001b[0m     backdoor_sets\u001b[38;5;241m.\u001b[39mappend({\u001b[38;5;124m\"\u001b[39m\u001b[38;5;124mbackdoor_set\u001b[39m\u001b[38;5;124m\"\u001b[39m: empty_set})\n",
      "File \u001b[0;32m~/Documents/Classes/566/Project/566well-being/566env/lib/python3.11/site-packages/dowhy/graph.py:98\u001b[0m, in \u001b[0;36mcheck_valid_backdoor_set\u001b[0;34m(graph, nodes1, nodes2, nodes3, backdoor_paths, new_graph, dseparation_algo)\u001b[0m\n\u001b[1;32m     94\u001b[0m     \u001b[38;5;28;01mif\u001b[39;00m new_graph \u001b[38;5;129;01mis\u001b[39;00m \u001b[38;5;28;01mNone\u001b[39;00m:\n\u001b[1;32m     95\u001b[0m         \u001b[38;5;66;03m# Assume that nodes1 is the treatment\u001b[39;00m\n\u001b[1;32m     96\u001b[0m         new_graph \u001b[38;5;241m=\u001b[39m do_surgery(graph, nodes1, remove_outgoing_edges\u001b[38;5;241m=\u001b[39m\u001b[38;5;28;01mTrue\u001b[39;00m)\n\u001b[0;32m---> 98\u001b[0m     dseparated \u001b[38;5;241m=\u001b[39m \u001b[43mnx\u001b[49m\u001b[38;5;241;43m.\u001b[39;49m\u001b[43malgorithms\u001b[49m\u001b[38;5;241;43m.\u001b[39;49m\u001b[43md_separated\u001b[49m\u001b[43m(\u001b[49m\u001b[43mnew_graph\u001b[49m\u001b[43m,\u001b[49m\u001b[43m \u001b[49m\u001b[38;5;28;43mset\u001b[39;49m\u001b[43m(\u001b[49m\u001b[43mnodes1\u001b[49m\u001b[43m)\u001b[49m\u001b[43m,\u001b[49m\u001b[43m \u001b[49m\u001b[38;5;28;43mset\u001b[39;49m\u001b[43m(\u001b[49m\u001b[43mnodes2\u001b[49m\u001b[43m)\u001b[49m\u001b[43m,\u001b[49m\u001b[43m \u001b[49m\u001b[38;5;28;43mset\u001b[39;49m\u001b[43m(\u001b[49m\u001b[43mnodes3\u001b[49m\u001b[43m)\u001b[49m\u001b[43m)\u001b[49m\n\u001b[1;32m     99\u001b[0m \u001b[38;5;28;01melif\u001b[39;00m dseparation_algo \u001b[38;5;241m==\u001b[39m \u001b[38;5;124m\"\u001b[39m\u001b[38;5;124mnaive\u001b[39m\u001b[38;5;124m\"\u001b[39m:\n\u001b[1;32m    100\u001b[0m     \u001b[38;5;66;03m# ignores new_graph parameter, always uses self._graph\u001b[39;00m\n\u001b[1;32m    101\u001b[0m     \u001b[38;5;28;01mif\u001b[39;00m backdoor_paths \u001b[38;5;129;01mis\u001b[39;00m \u001b[38;5;28;01mNone\u001b[39;00m:\n",
      "File \u001b[0;32m~/Documents/Classes/566/Project/566well-being/566env/lib/python3.11/site-packages/networkx/algorithms/d_separation.py:700\u001b[0m, in \u001b[0;36md_separated\u001b[0;34m(G, x, y, z)\u001b[0m\n\u001b[1;32m    692\u001b[0m \u001b[38;5;28;01mimport\u001b[39;00m \u001b[38;5;21;01mwarnings\u001b[39;00m\n\u001b[1;32m    694\u001b[0m warnings\u001b[38;5;241m.\u001b[39mwarn(\n\u001b[1;32m    695\u001b[0m     \u001b[38;5;124m\"\u001b[39m\u001b[38;5;124md_separated is deprecated and will be removed in NetworkX v3.5.\u001b[39m\u001b[38;5;124m\"\u001b[39m\n\u001b[1;32m    696\u001b[0m     \u001b[38;5;124m\"\u001b[39m\u001b[38;5;124mPlease use `is_d_separator(G, x, y, z)`.\u001b[39m\u001b[38;5;124m\"\u001b[39m,\n\u001b[1;32m    697\u001b[0m     category\u001b[38;5;241m=\u001b[39m\u001b[38;5;167;01mDeprecationWarning\u001b[39;00m,\n\u001b[1;32m    698\u001b[0m     stacklevel\u001b[38;5;241m=\u001b[39m\u001b[38;5;241m2\u001b[39m,\n\u001b[1;32m    699\u001b[0m )\n\u001b[0;32m--> 700\u001b[0m \u001b[38;5;28;01mreturn\u001b[39;00m \u001b[43mnx\u001b[49m\u001b[38;5;241;43m.\u001b[39;49m\u001b[43mis_d_separator\u001b[49m\u001b[43m(\u001b[49m\u001b[43mG\u001b[49m\u001b[43m,\u001b[49m\u001b[43m \u001b[49m\u001b[43mx\u001b[49m\u001b[43m,\u001b[49m\u001b[43m \u001b[49m\u001b[43my\u001b[49m\u001b[43m,\u001b[49m\u001b[43m \u001b[49m\u001b[43mz\u001b[49m\u001b[43m)\u001b[49m\n",
      "File \u001b[0;32m<class 'networkx.utils.decorators.argmap'> compilation 33:4\u001b[0m, in \u001b[0;36margmap_is_d_separator_29\u001b[0;34m(G, x, y, z, backend, **backend_kwargs)\u001b[0m\n\u001b[1;32m      2\u001b[0m \u001b[38;5;28;01mimport\u001b[39;00m \u001b[38;5;21;01mcollections\u001b[39;00m\n\u001b[1;32m      3\u001b[0m \u001b[38;5;28;01mimport\u001b[39;00m \u001b[38;5;21;01mgzip\u001b[39;00m\n\u001b[0;32m----> 4\u001b[0m \u001b[38;5;28;01mimport\u001b[39;00m \u001b[38;5;21;01minspect\u001b[39;00m\n\u001b[1;32m      5\u001b[0m \u001b[38;5;28;01mimport\u001b[39;00m \u001b[38;5;21;01mitertools\u001b[39;00m\n\u001b[1;32m      6\u001b[0m \u001b[38;5;28;01mimport\u001b[39;00m \u001b[38;5;21;01mre\u001b[39;00m\n",
      "File \u001b[0;32m~/Documents/Classes/566/Project/566well-being/566env/lib/python3.11/site-packages/networkx/utils/backends.py:633\u001b[0m, in \u001b[0;36m_dispatchable.__call__\u001b[0;34m(self, backend, *args, **kwargs)\u001b[0m\n\u001b[1;32m    628\u001b[0m \u001b[38;5;250m\u001b[39m\u001b[38;5;124;03m\"\"\"Returns the result of the original function, or the backend function if\u001b[39;00m\n\u001b[1;32m    629\u001b[0m \u001b[38;5;124;03mthe backend is specified and that backend implements `func`.\"\"\"\u001b[39;00m\n\u001b[1;32m    631\u001b[0m \u001b[38;5;28;01mif\u001b[39;00m \u001b[38;5;129;01mnot\u001b[39;00m backends:\n\u001b[1;32m    632\u001b[0m     \u001b[38;5;66;03m# Fast path if no backends are installed\u001b[39;00m\n\u001b[0;32m--> 633\u001b[0m     \u001b[38;5;28;01mreturn\u001b[39;00m \u001b[38;5;28;43mself\u001b[39;49m\u001b[38;5;241;43m.\u001b[39;49m\u001b[43morig_func\u001b[49m\u001b[43m(\u001b[49m\u001b[38;5;241;43m*\u001b[39;49m\u001b[43margs\u001b[49m\u001b[43m,\u001b[49m\u001b[43m \u001b[49m\u001b[38;5;241;43m*\u001b[39;49m\u001b[38;5;241;43m*\u001b[39;49m\u001b[43mkwargs\u001b[49m\u001b[43m)\u001b[49m\n\u001b[1;32m    635\u001b[0m \u001b[38;5;66;03m# Use `backend_name` in this function instead of `backend`\u001b[39;00m\n\u001b[1;32m    636\u001b[0m backend_name \u001b[38;5;241m=\u001b[39m backend\n",
      "File \u001b[0;32m~/Documents/Classes/566/Project/566well-being/566env/lib/python3.11/site-packages/networkx/algorithms/d_separation.py:296\u001b[0m, in \u001b[0;36mis_d_separator\u001b[0;34m(G, x, y, z)\u001b[0m\n\u001b[1;32m    293\u001b[0m     \u001b[38;5;28;01mraise\u001b[39;00m nx\u001b[38;5;241m.\u001b[39mNodeNotFound(\u001b[38;5;124m\"\u001b[39m\u001b[38;5;124mOne of x, y, or z is not a node or a set of nodes in G\u001b[39m\u001b[38;5;124m\"\u001b[39m)\n\u001b[1;32m    295\u001b[0m \u001b[38;5;28;01mif\u001b[39;00m \u001b[38;5;129;01mnot\u001b[39;00m nx\u001b[38;5;241m.\u001b[39mis_directed_acyclic_graph(G):\n\u001b[0;32m--> 296\u001b[0m     \u001b[38;5;28;01mraise\u001b[39;00m nx\u001b[38;5;241m.\u001b[39mNetworkXError(\u001b[38;5;124m\"\u001b[39m\u001b[38;5;124mgraph should be directed acyclic\u001b[39m\u001b[38;5;124m\"\u001b[39m)\n\u001b[1;32m    298\u001b[0m \u001b[38;5;66;03m# contains -> and <-> edges from starting node T\u001b[39;00m\n\u001b[1;32m    299\u001b[0m forward_deque \u001b[38;5;241m=\u001b[39m deque([])\n",
      "\u001b[0;31mNetworkXError\u001b[0m: graph should be directed acyclic"
     ]
    }
   ],
   "source": [
    "ied = model.identify_effect(estimand_type=\"nonparametric-ate\")"
   ]
  },
  {
   "cell_type": "code",
   "execution_count": null,
   "id": "ac90d630",
   "metadata": {},
   "outputs": [
    {
     "name": "stdout",
     "output_type": "stream",
     "text": [
      "Estimand type: EstimandType.NONPARAMETRIC_ATE\n",
      "\n",
      "### Estimand : 1\n",
      "Estimand name: backdoor\n",
      "No such variable(s) found!\n",
      "\n",
      "### Estimand : 2\n",
      "Estimand name: iv\n",
      "No such variable(s) found!\n",
      "\n",
      "### Estimand : 3\n",
      "Estimand name: frontdoor\n",
      "No such variable(s) found!\n",
      "\n"
     ]
    }
   ],
   "source": [
    "print(ied)"
   ]
  },
  {
   "cell_type": "code",
   "execution_count": null,
   "id": "21cb4ba6",
   "metadata": {},
   "outputs": [],
   "source": []
  },
  {
   "cell_type": "code",
   "execution_count": 438,
   "id": "a533e9f4",
   "metadata": {},
   "outputs": [
    {
     "data": {
      "text/plain": [
       "{0: 'Y4', 1: 'S1', 2: 'S2', 3: 'S3', 4: 'S4', 5: 'S5', 6: 'S6', 7: 'S7'}"
      ]
     },
     "execution_count": 438,
     "metadata": {},
     "output_type": "execute_result"
    }
   ],
   "source": [
    "node_number_dictionary"
   ]
  },
  {
   "cell_type": "code",
   "execution_count": 437,
   "id": "043d242a",
   "metadata": {},
   "outputs": [
    {
     "data": {
      "text/plain": [
       "'Y4'"
      ]
     },
     "execution_count": 437,
     "metadata": {},
     "output_type": "execute_result"
    }
   ],
   "source": [
    "fci_g.nodes[1].name"
   ]
  },
  {
   "cell_type": "code",
   "execution_count": null,
   "id": "ed3bd694",
   "metadata": {},
   "outputs": [],
   "source": [
    "fci_g.add_directed_edge(fci_g.nodes[4], fci_g.nodes[7])"
   ]
  }
 ],
 "metadata": {
  "kernelspec": {
   "display_name": "Python 3 (ipykernel)",
   "language": "python",
   "name": "python3"
  },
  "language_info": {
   "codemirror_mode": {
    "name": "ipython",
    "version": 3
   },
   "file_extension": ".py",
   "mimetype": "text/x-python",
   "name": "python",
   "nbconvert_exporter": "python",
   "pygments_lexer": "ipython3",
   "version": "3.11.0"
  }
 },
 "nbformat": 4,
 "nbformat_minor": 5
}
