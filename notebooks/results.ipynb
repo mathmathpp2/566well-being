{
 "cells": [
  {
   "cell_type": "code",
   "execution_count": 43,
   "metadata": {},
   "outputs": [],
   "source": [
    "import pandas as pd\n",
    "from pathlib import Path\n",
    "import json\n",
    "\n",
    "def aggregate_results_from_subfolders(base_folder):\n",
    "    # Convert base_folder to a Path object\n",
    "    base_path = Path(base_folder)\n",
    "\n",
    "    # Initialize an empty list to store data\n",
    "    all_data = []\n",
    "\n",
    "    # Iterate over all subfolders in the base folder\n",
    "    for subfolder in base_path.iterdir():\n",
    "        # Check if the subfolder matches the format YYYYMMDD_HHMMSS\n",
    "        if subfolder.is_dir() and subfolder.name.count('_') == 2:\n",
    "            # Define the path to the results.json file\n",
    "            results_file = subfolder / 'results.json'\n",
    "\n",
    "            # Check if the results.json file exists\n",
    "            if results_file.exists():\n",
    "                # Read and parse the JSON file\n",
    "                with results_file.open('r') as f:\n",
    "                    data = json.load(f)\n",
    "                    all_data.append(data)\n",
    "\n",
    "    # Create a DataFrame from the aggregated data\n",
    "    df = pd.DataFrame(all_data)\n",
    "\n",
    "    return df\n",
    "\n",
    "results_df = aggregate_results_from_subfolders('.')\n",
    "results_df['pre_r_squared test'] = pd.to_numeric(results_df['pre_r_squared test'], errors='coerce')\n",
    "results_df['pre_r_squared train'] = pd.to_numeric(results_df['pre_r_squared test'], errors='coerce')\n",
    "\n",
    "results_df.sort_values(by='pre_r_squared test', ascending=False, inplace=True)\n"
   ]
  },
  {
   "cell_type": "code",
   "execution_count": 44,
   "metadata": {},
   "outputs": [],
   "source": [
    "results_df.to_csv('results.csv')"
   ]
  }
 ],
 "metadata": {
  "kernelspec": {
   "display_name": ".venv",
   "language": "python",
   "name": "python3"
  },
  "language_info": {
   "codemirror_mode": {
    "name": "ipython",
    "version": 3
   },
   "file_extension": ".py",
   "mimetype": "text/x-python",
   "name": "python",
   "nbconvert_exporter": "python",
   "pygments_lexer": "ipython3",
   "version": "3.11.0"
  }
 },
 "nbformat": 4,
 "nbformat_minor": 2
}
