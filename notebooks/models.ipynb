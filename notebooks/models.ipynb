{
 "cells": [
  {
   "cell_type": "code",
   "execution_count": 43,
   "metadata": {},
   "outputs": [
    {
     "name": "stdout",
     "output_type": "stream",
     "text": [
      "The autoreload extension is already loaded. To reload it, use:\n",
      "  %reload_ext autoreload\n"
     ]
    }
   ],
   "source": [
    "%load_ext autoreload\n",
    "%autoreload 2\n",
    "\n",
    "from webbrowser import get\n",
    "import pandas as pd\n",
    "from sklearn.metrics import accuracy_score, r2_score\n",
    "from models import *\n",
    "import logging\n",
    "from pretty_logger import get_logger\n",
    "from pathlib import Path\n"
   ]
  },
  {
   "cell_type": "code",
   "execution_count": 44,
   "metadata": {},
   "outputs": [],
   "source": [
    "# define subset (ignore all other data)\n",
    "ema = [f\"Y{i}\" for i in range(1, 8, 1)]\n",
    "physical = [f\"P{i}\" for i in range(1, 5, 1)]\n",
    "social = [f\"S{i}\" for i in range(1, 8, 1)]"
   ]
  },
  {
   "cell_type": "code",
   "execution_count": 45,
   "metadata": {},
   "outputs": [],
   "source": [
    "df = pd.read_csv(datafile)\n",
    "df[\"date\"] = pd.to_datetime(df[\"day_survey\"])\n",
    "df[\"C\"] = df[\"date\"].apply(\n",
    "    lambda date: (\n",
    "        COVIDStatus.POST_COVID if date > date_covid else COVIDStatus.PRE_COVID\n",
    "    )\n",
    ")\n",
    "\n",
    "df_head = df.head(5).copy()\n",
    "\n",
    "df.rename(columns=reverse_ema_dictionary, inplace=True)\n",
    "df.set_index([\"uid\", \"date\"], inplace=True)\n",
    "\n",
    "subset = ema + physical + social + sleep + [\"C\"]\n",
    "df = df[subset]\n",
    "df.dropna(inplace=True)\n",
    "\n",
    "sets_df = pd.read_parquet(sets_file, engine=\"pyarrow\")"
   ]
  },
  {
   "cell_type": "code",
   "execution_count": 46,
   "metadata": {},
   "outputs": [
    {
     "data": {
      "text/plain": [
       "['Y2', 'P2', 'P3', 'Y1', 'Y3', 'Y5', 'Y6', 'Y7', 'Y4', 'S7', 'C']"
      ]
     },
     "execution_count": 46,
     "metadata": {},
     "output_type": "execute_result"
    }
   ],
   "source": [
    "skip_emas = list(set(ema_dictionary.keys()).difference(set([\"Y2\", \"Y3\"])))\n",
    "skip_treatments = list(\n",
    "    set(subset).difference(\n",
    "        set(\n",
    "            [\n",
    "                \"P1\",\n",
    "                \"P4\",\n",
    "                \"S1\",\n",
    "                \"S2\",\n",
    "                \"S3\",\n",
    "                \"S4\",\n",
    "                \"S5\",\n",
    "                \"S6\",\n",
    "                \"Z1\",\n",
    "                \"Z2\",\n",
    "                \"Z3\",\n",
    "            ]\n",
    "        )\n",
    "    )\n",
    ")\n",
    "\n",
    "skip_treatments"
   ]
  },
  {
   "cell_type": "code",
   "execution_count": 47,
   "metadata": {},
   "outputs": [
    {
     "name": "stderr",
     "output_type": "stream",
     "text": [
      "[\u001b[38;5;192m2024-05-28 13:14:56\u001b[0m.\u001b[33m130\u001b[0m] - \u001b[32mmodelslog-\u001b[0m \u001b[32mINFO\u001b[0m \u001b[35mN/A-\u001b[0m \u001b[34m2000932153.py:\u001b[0m \u001b[35m28\u001b[0m \u001b[37m[<module>]:\u001b[0m \u001b[32m\u001b[38;5;222mFitting\n",
      "treatment: P1:excercise (seconds), outcome: Y2:phq4_score, adjustment set={'S1', 'P2', 'S6', 'S3', 'S4', 'P4', 'S2'}\u001b[0m\u001b[0m\n",
      "[\u001b[38;5;192m2024-05-28 13:14:56\u001b[0m.\u001b[33m132\u001b[0m] - \u001b[32mmodelslog-\u001b[0m \u001b[32mINFO\u001b[0m \u001b[35mN/A-\u001b[0m \u001b[34m2000932153.py:\u001b[0m \u001b[35m29\u001b[0m \u001b[37m[<module>]:\u001b[0m \u001b[32m\u001b[38;5;222mMedian of P1 10963.4\u001b[0m\u001b[0m\n"
     ]
    },
    {
     "name": "stderr",
     "output_type": "stream",
     "text": [
      "[\u001b[38;5;192m2024-05-28 13:15:15\u001b[0m.\u001b[33m704\u001b[0m] - \u001b[32mmodelslog-\u001b[0m \u001b[32mINFO\u001b[0m \u001b[35mN/A-\u001b[0m \u001b[34m2000932153.py:\u001b[0m \u001b[35m41\u001b[0m \u001b[37m[<module>]:\u001b[0m \u001b[32m\u001b[38;5;222m\n",
      "ccp_alpha =0, n_estimators=600, pre_rsq train=0.8814502361879364, pre_rsq test=0.17779542262851178\n",
      "pre mae test =1.7744972025058474\n",
      "post_rsq train=0.8814502361879364, post_rsq test=0.17779542262851178\n",
      "\u001b[0m\u001b[0m\n",
      "[\u001b[38;5;192m2024-05-28 13:15:15\u001b[0m.\u001b[33m704\u001b[0m] - \u001b[32mmodelslog-\u001b[0m \u001b[32mINFO\u001b[0m \u001b[35mN/A-\u001b[0m \u001b[34m2000932153.py:\u001b[0m \u001b[35m47\u001b[0m \u001b[37m[<module>]:\u001b[0m \u001b[32m\u001b[38;5;222m-----------------------------------------------------\n",
      "\u001b[0m\u001b[0m\n",
      "[\u001b[38;5;192m2024-05-28 13:15:15\u001b[0m.\u001b[33m705\u001b[0m] - \u001b[32mmodelslog-\u001b[0m \u001b[32mINFO\u001b[0m \u001b[35mN/A-\u001b[0m \u001b[34m2000932153.py:\u001b[0m \u001b[35m28\u001b[0m \u001b[37m[<module>]:\u001b[0m \u001b[32m\u001b[38;5;222mFitting\n",
      "treatment: P4:sports (hours), outcome: Y2:phq4_score, adjustment set={'S1', 'P2', 'S5', 'S3', 'P3', 'S4'}\u001b[0m\u001b[0m\n",
      "[\u001b[38;5;192m2024-05-28 13:15:15\u001b[0m.\u001b[33m706\u001b[0m] - \u001b[32mmodelslog-\u001b[0m \u001b[32mINFO\u001b[0m \u001b[35mN/A-\u001b[0m \u001b[34m2000932153.py:\u001b[0m \u001b[35m29\u001b[0m \u001b[37m[<module>]:\u001b[0m \u001b[32m\u001b[38;5;222mMedian of P4 0.08325\u001b[0m\u001b[0m\n",
      "[\u001b[38;5;192m2024-05-28 13:15:37\u001b[0m.\u001b[33m896\u001b[0m] - \u001b[32mmodelslog-\u001b[0m \u001b[32mINFO\u001b[0m \u001b[35mN/A-\u001b[0m \u001b[34m2000932153.py:\u001b[0m \u001b[35m41\u001b[0m \u001b[37m[<module>]:\u001b[0m \u001b[32m\u001b[38;5;222m\n",
      "ccp_alpha =0, n_estimators=600, pre_rsq train=0.8709023067330046, pre_rsq test=0.10318332236451166\n",
      "pre mae test =1.7672244665859387\n",
      "post_rsq train=0.8709023067330046, post_rsq test=0.10318332236451166\n",
      "\u001b[0m\u001b[0m\n",
      "[\u001b[38;5;192m2024-05-28 13:15:37\u001b[0m.\u001b[33m897\u001b[0m] - \u001b[32mmodelslog-\u001b[0m \u001b[32mINFO\u001b[0m \u001b[35mN/A-\u001b[0m \u001b[34m2000932153.py:\u001b[0m \u001b[35m47\u001b[0m \u001b[37m[<module>]:\u001b[0m \u001b[32m\u001b[38;5;222m-----------------------------------------------------\n",
      "\u001b[0m\u001b[0m\n",
      "[\u001b[38;5;192m2024-05-28 13:15:37\u001b[0m.\u001b[33m897\u001b[0m] - \u001b[32mmodelslog-\u001b[0m \u001b[32mINFO\u001b[0m \u001b[35mN/A-\u001b[0m \u001b[34m2000932153.py:\u001b[0m \u001b[35m28\u001b[0m \u001b[37m[<module>]:\u001b[0m \u001b[32m\u001b[38;5;222mFitting\n",
      "treatment: S1:traveling (seconds), outcome: Y2:phq4_score, adjustment set={'P2', 'S5', 'S3', 'P3', 'S4', 'P4', 'S2'}\u001b[0m\u001b[0m\n",
      "[\u001b[38;5;192m2024-05-28 13:15:37\u001b[0m.\u001b[33m899\u001b[0m] - \u001b[32mmodelslog-\u001b[0m \u001b[32mINFO\u001b[0m \u001b[35mN/A-\u001b[0m \u001b[34m2000932153.py:\u001b[0m \u001b[35m29\u001b[0m \u001b[37m[<module>]:\u001b[0m \u001b[32m\u001b[38;5;222mMedian of S1 854.1666666666666\u001b[0m\u001b[0m\n",
      "[\u001b[38;5;192m2024-05-28 13:16:02\u001b[0m.\u001b[33m971\u001b[0m] - \u001b[32mmodelslog-\u001b[0m \u001b[32mINFO\u001b[0m \u001b[35mN/A-\u001b[0m \u001b[34m2000932153.py:\u001b[0m \u001b[35m41\u001b[0m \u001b[37m[<module>]:\u001b[0m \u001b[32m\u001b[38;5;222m\n",
      "ccp_alpha =0, n_estimators=600, pre_rsq train=0.8744117988440007, pre_rsq test=0.10881913156682022\n",
      "pre mae test =1.7955163219647363\n",
      "post_rsq train=0.8744117988440007, post_rsq test=0.10881913156682022\n",
      "\u001b[0m\u001b[0m\n",
      "[\u001b[38;5;192m2024-05-28 13:16:02\u001b[0m.\u001b[33m972\u001b[0m] - \u001b[32mmodelslog-\u001b[0m \u001b[32mINFO\u001b[0m \u001b[35mN/A-\u001b[0m \u001b[34m2000932153.py:\u001b[0m \u001b[35m47\u001b[0m \u001b[37m[<module>]:\u001b[0m \u001b[32m\u001b[38;5;222m-----------------------------------------------------\n",
      "\u001b[0m\u001b[0m\n",
      "[\u001b[38;5;192m2024-05-28 13:16:02\u001b[0m.\u001b[33m973\u001b[0m] - \u001b[32mmodelslog-\u001b[0m \u001b[32mINFO\u001b[0m \u001b[35mN/A-\u001b[0m \u001b[34m2000932153.py:\u001b[0m \u001b[35m28\u001b[0m \u001b[37m[<module>]:\u001b[0m \u001b[32m\u001b[38;5;222mFitting\n",
      "treatment: S3:time in social location (hours), outcome: Y2:phq4_score, adjustment set={'P1', 'S4', 'S1', 'S2', 'P2', 'P3', 'S7', 'P4', 'Z1'}\u001b[0m\u001b[0m\n",
      "[\u001b[38;5;192m2024-05-28 13:16:02\u001b[0m.\u001b[33m974\u001b[0m] - \u001b[32mmodelslog-\u001b[0m \u001b[32mINFO\u001b[0m \u001b[35mN/A-\u001b[0m \u001b[34m2000932153.py:\u001b[0m \u001b[35m29\u001b[0m \u001b[37m[<module>]:\u001b[0m \u001b[32m\u001b[38;5;222mMedian of S3 1.2667499999993\u001b[0m\u001b[0m\n"
     ]
    },
    {
     "ename": "KeyboardInterrupt",
     "evalue": "",
     "output_type": "error",
     "traceback": [
      "\u001b[0;31m---------------------------------------------------------------------------\u001b[0m",
      "\u001b[0;31mKeyboardInterrupt\u001b[0m                         Traceback (most recent call last)",
      "Cell \u001b[0;32mIn[47], line 32\u001b[0m\n\u001b[1;32m     28\u001b[0m logger\u001b[38;5;241m.\u001b[39minfo(\u001b[38;5;124mf\u001b[39m\u001b[38;5;124m\"\u001b[39m\u001b[38;5;124mFitting\u001b[39m\u001b[38;5;130;01m\\n\u001b[39;00m\u001b[38;5;132;01m{\u001b[39;00mcovariate_set\u001b[38;5;132;01m!r}\u001b[39;00m\u001b[38;5;124m\"\u001b[39m)\n\u001b[1;32m     29\u001b[0m logger\u001b[38;5;241m.\u001b[39minfo(\n\u001b[1;32m     30\u001b[0m     \u001b[38;5;124mf\u001b[39m\u001b[38;5;124m\"\u001b[39m\u001b[38;5;124mMedian of \u001b[39m\u001b[38;5;132;01m{\u001b[39;00mcovariate_set\u001b[38;5;241m.\u001b[39mtreatment\u001b[38;5;132;01m}\u001b[39;00m\u001b[38;5;124m \u001b[39m\u001b[38;5;132;01m{\u001b[39;00mdf[covariate_set\u001b[38;5;241m.\u001b[39mtreatment]\u001b[38;5;241m.\u001b[39mmedian()\u001b[38;5;132;01m}\u001b[39;00m\u001b[38;5;124m\"\u001b[39m\n\u001b[1;32m     31\u001b[0m )\n\u001b[0;32m---> 32\u001b[0m wbm \u001b[38;5;241m=\u001b[39m \u001b[43mWBRandomForestModel\u001b[49m\u001b[43m(\u001b[49m\n\u001b[1;32m     33\u001b[0m \u001b[43m    \u001b[49m\u001b[43mdata\u001b[49m\u001b[38;5;241;43m=\u001b[39;49m\u001b[43mdf\u001b[49m\u001b[43m,\u001b[49m\n\u001b[1;32m     34\u001b[0m \u001b[43m    \u001b[49m\u001b[43mn_estimators\u001b[49m\u001b[38;5;241;43m=\u001b[39;49m\u001b[43mn_estimators\u001b[49m\u001b[43m,\u001b[49m\n\u001b[1;32m     35\u001b[0m \u001b[43m    \u001b[49m\u001b[43mccp_alpha\u001b[49m\u001b[38;5;241;43m=\u001b[39;49m\u001b[43mccp_alpha\u001b[49m\u001b[43m,\u001b[49m\n\u001b[1;32m     36\u001b[0m \u001b[43m    \u001b[49m\u001b[43mtreatment\u001b[49m\u001b[38;5;241;43m=\u001b[39;49m\u001b[43mcovariate_set\u001b[49m\u001b[38;5;241;43m.\u001b[39;49m\u001b[43mtreatment\u001b[49m\u001b[43m,\u001b[49m\n\u001b[1;32m     37\u001b[0m \u001b[43m    \u001b[49m\u001b[43moutcome\u001b[49m\u001b[38;5;241;43m=\u001b[39;49m\u001b[43mcovariate_set\u001b[49m\u001b[38;5;241;43m.\u001b[39;49m\u001b[43moutcome\u001b[49m\u001b[43m,\u001b[49m\n\u001b[1;32m     38\u001b[0m \u001b[43m    \u001b[49m\u001b[43mseparating_set\u001b[49m\u001b[38;5;241;43m=\u001b[39;49m\u001b[43mcovariate_set\u001b[49m\u001b[38;5;241;43m.\u001b[39;49m\u001b[43mrestricted_adjustment_set\u001b[49m\u001b[43m,\u001b[49m\n\u001b[1;32m     39\u001b[0m \u001b[43m    \u001b[49m\u001b[43mname\u001b[49m\u001b[38;5;241;43m=\u001b[39;49m\u001b[38;5;124;43mf\u001b[39;49m\u001b[38;5;124;43m\"\u001b[39;49m\u001b[38;5;124;43mrow:\u001b[39;49m\u001b[38;5;132;43;01m{\u001b[39;49;00m\u001b[43mindex\u001b[49m\u001b[38;5;132;43;01m}\u001b[39;49;00m\u001b[38;5;124;43m\"\u001b[39;49m\u001b[43m,\u001b[49m\n\u001b[1;32m     40\u001b[0m \u001b[43m\u001b[49m\u001b[43m)\u001b[49m\n\u001b[1;32m     41\u001b[0m logger\u001b[38;5;241m.\u001b[39minfo(\n\u001b[1;32m     42\u001b[0m     \u001b[38;5;124mf\u001b[39m\u001b[38;5;124m\"\u001b[39m\u001b[38;5;130;01m\\n\u001b[39;00m\u001b[38;5;124mccp_alpha =\u001b[39m\u001b[38;5;132;01m{\u001b[39;00mccp_alpha\u001b[38;5;132;01m}\u001b[39;00m\u001b[38;5;124m, n_estimators=\u001b[39m\u001b[38;5;132;01m{\u001b[39;00mn_estimators\u001b[38;5;132;01m}\u001b[39;00m\u001b[38;5;124m, \u001b[39m\u001b[38;5;124m\"\u001b[39m\n\u001b[1;32m     43\u001b[0m     \u001b[38;5;124mf\u001b[39m\u001b[38;5;124m\"\u001b[39m\u001b[38;5;124mpre_rsq train=\u001b[39m\u001b[38;5;132;01m{\u001b[39;00mwbm\u001b[38;5;241m.\u001b[39mpre_r_squared[\u001b[38;5;241m0\u001b[39m]\u001b[38;5;132;01m}\u001b[39;00m\u001b[38;5;124m, pre_rsq test=\u001b[39m\u001b[38;5;132;01m{\u001b[39;00mwbm\u001b[38;5;241m.\u001b[39mpre_r_squared[\u001b[38;5;241m1\u001b[39m]\u001b[38;5;132;01m}\u001b[39;00m\u001b[38;5;130;01m\\n\u001b[39;00m\u001b[38;5;124m\"\u001b[39m\n\u001b[1;32m     44\u001b[0m     \u001b[38;5;124mf\u001b[39m\u001b[38;5;124m\"\u001b[39m\u001b[38;5;124mpre mae test =\u001b[39m\u001b[38;5;132;01m{\u001b[39;00mwbm\u001b[38;5;241m.\u001b[39mpre_r_squared[\u001b[38;5;241m2\u001b[39m]\u001b[38;5;132;01m}\u001b[39;00m\u001b[38;5;130;01m\\n\u001b[39;00m\u001b[38;5;124m\"\u001b[39m\n\u001b[1;32m     45\u001b[0m     \u001b[38;5;124mf\u001b[39m\u001b[38;5;124m\"\u001b[39m\u001b[38;5;124mpost_rsq train=\u001b[39m\u001b[38;5;132;01m{\u001b[39;00mwbm\u001b[38;5;241m.\u001b[39mpre_r_squared[\u001b[38;5;241m0\u001b[39m]\u001b[38;5;132;01m}\u001b[39;00m\u001b[38;5;124m, post_rsq test=\u001b[39m\u001b[38;5;132;01m{\u001b[39;00mwbm\u001b[38;5;241m.\u001b[39mpre_r_squared[\u001b[38;5;241m1\u001b[39m]\u001b[38;5;132;01m}\u001b[39;00m\u001b[38;5;130;01m\\n\u001b[39;00m\u001b[38;5;124m\"\u001b[39m\n\u001b[1;32m     46\u001b[0m )\n\u001b[1;32m     47\u001b[0m logger\u001b[38;5;241m.\u001b[39minfo(\u001b[38;5;124m\"\u001b[39m\u001b[38;5;124m-----------------------------------------------------\u001b[39m\u001b[38;5;130;01m\\n\u001b[39;00m\u001b[38;5;124m\"\u001b[39m)\n",
      "File \u001b[0;32m~/Documents/Classes/566/Project/566well-being/notebooks/models.py:610\u001b[0m, in \u001b[0;36mWBRandomForestModel.__init__\u001b[0;34m(self, **kwargs)\u001b[0m\n\u001b[1;32m    596\u001b[0m \u001b[38;5;28msuper\u001b[39m()\u001b[38;5;241m.\u001b[39m\u001b[38;5;21m__init__\u001b[39m(\u001b[38;5;241m*\u001b[39m\u001b[38;5;241m*\u001b[39mkwargs)\n\u001b[1;32m    598\u001b[0m \u001b[38;5;28mself\u001b[39m\u001b[38;5;241m.\u001b[39mpre_model, \u001b[38;5;28mself\u001b[39m\u001b[38;5;241m.\u001b[39mpre_r_squared \u001b[38;5;241m=\u001b[39m RandomForestModelBuilder(\n\u001b[1;32m    599\u001b[0m     \u001b[38;5;28mself\u001b[39m\u001b[38;5;241m.\u001b[39mdata[\u001b[38;5;28mself\u001b[39m\u001b[38;5;241m.\u001b[39mdata[\u001b[38;5;124m\"\u001b[39m\u001b[38;5;124mC\u001b[39m\u001b[38;5;124m\"\u001b[39m] \u001b[38;5;241m==\u001b[39m COVIDStatus\u001b[38;5;241m.\u001b[39mPRE_COVID],\n\u001b[1;32m    600\u001b[0m     \u001b[38;5;28mself\u001b[39m\u001b[38;5;241m.\u001b[39moutcome,\n\u001b[0;32m   (...)\u001b[0m\n\u001b[1;32m    603\u001b[0m     n_estimators\u001b[38;5;241m=\u001b[39m\u001b[38;5;28mself\u001b[39m\u001b[38;5;241m.\u001b[39mn_estimators, ccp_alpha\u001b[38;5;241m=\u001b[39m\u001b[38;5;28mself\u001b[39m\u001b[38;5;241m.\u001b[39mccp_alpha\n\u001b[1;32m    604\u001b[0m )\n\u001b[1;32m    606\u001b[0m \u001b[38;5;28mself\u001b[39m\u001b[38;5;241m.\u001b[39mpost_model, \u001b[38;5;28mself\u001b[39m\u001b[38;5;241m.\u001b[39mpost_r_squared \u001b[38;5;241m=\u001b[39m \u001b[43mRandomForestModelBuilder\u001b[49m\u001b[43m(\u001b[49m\n\u001b[1;32m    607\u001b[0m \u001b[43m    \u001b[49m\u001b[38;5;28;43mself\u001b[39;49m\u001b[38;5;241;43m.\u001b[39;49m\u001b[43mdata\u001b[49m\u001b[43m[\u001b[49m\u001b[38;5;28;43mself\u001b[39;49m\u001b[38;5;241;43m.\u001b[39;49m\u001b[43mdata\u001b[49m\u001b[43m[\u001b[49m\u001b[38;5;124;43m\"\u001b[39;49m\u001b[38;5;124;43mC\u001b[39;49m\u001b[38;5;124;43m\"\u001b[39;49m\u001b[43m]\u001b[49m\u001b[43m \u001b[49m\u001b[38;5;241;43m==\u001b[39;49m\u001b[43m \u001b[49m\u001b[43mCOVIDStatus\u001b[49m\u001b[38;5;241;43m.\u001b[39;49m\u001b[43mPOST_COVID\u001b[49m\u001b[43m]\u001b[49m\u001b[43m,\u001b[49m\n\u001b[1;32m    608\u001b[0m \u001b[43m    \u001b[49m\u001b[38;5;28;43mself\u001b[39;49m\u001b[38;5;241;43m.\u001b[39;49m\u001b[43moutcome\u001b[49m\u001b[43m,\u001b[49m\n\u001b[1;32m    609\u001b[0m \u001b[43m    \u001b[49m\u001b[43mcovariates\u001b[49m\u001b[38;5;241;43m=\u001b[39;49m\u001b[38;5;28;43mself\u001b[39;49m\u001b[38;5;241;43m.\u001b[39;49m\u001b[43mcovariates\u001b[49m\u001b[43m,\u001b[49m\n\u001b[0;32m--> 610\u001b[0m \u001b[43m\u001b[49m\u001b[43m)\u001b[49m\u001b[38;5;241;43m.\u001b[39;49m\u001b[43mfit_random_forest\u001b[49m\u001b[43m(\u001b[49m\n\u001b[1;32m    611\u001b[0m \u001b[43m    \u001b[49m\u001b[43mn_estimators\u001b[49m\u001b[38;5;241;43m=\u001b[39;49m\u001b[38;5;28;43mself\u001b[39;49m\u001b[38;5;241;43m.\u001b[39;49m\u001b[43mn_estimators\u001b[49m\u001b[43m,\u001b[49m\u001b[43m \u001b[49m\u001b[43mccp_alpha\u001b[49m\u001b[38;5;241;43m=\u001b[39;49m\u001b[38;5;28;43mself\u001b[39;49m\u001b[38;5;241;43m.\u001b[39;49m\u001b[43mccp_alpha\u001b[49m\n\u001b[1;32m    612\u001b[0m \u001b[43m\u001b[49m\u001b[43m)\u001b[49m\n\u001b[1;32m    614\u001b[0m \u001b[38;5;28mself\u001b[39m\u001b[38;5;241m.\u001b[39mmodel_type_specific \u001b[38;5;241m=\u001b[39m {\n\u001b[1;32m    615\u001b[0m     \u001b[38;5;124m\"\u001b[39m\u001b[38;5;124mtype\u001b[39m\u001b[38;5;124m\"\u001b[39m: \u001b[38;5;124m\"\u001b[39m\u001b[38;5;124mrandom forest\u001b[39m\u001b[38;5;124m\"\u001b[39m,\n\u001b[1;32m    616\u001b[0m     \u001b[38;5;124m\"\u001b[39m\u001b[38;5;124mn_estimators\u001b[39m\u001b[38;5;124m\"\u001b[39m: \u001b[38;5;28mself\u001b[39m\u001b[38;5;241m.\u001b[39mn_estimators,\n\u001b[1;32m    617\u001b[0m     \u001b[38;5;124m\"\u001b[39m\u001b[38;5;124mccp_alpha\u001b[39m\u001b[38;5;124m\"\u001b[39m: \u001b[38;5;28mself\u001b[39m\u001b[38;5;241m.\u001b[39mccp_alpha,\n\u001b[1;32m    618\u001b[0m }\n\u001b[1;32m    619\u001b[0m \u001b[38;5;28mself\u001b[39m\u001b[38;5;241m.\u001b[39mdocument()\n",
      "File \u001b[0;32m~/Documents/Classes/566/Project/566well-being/notebooks/models.py:158\u001b[0m, in \u001b[0;36mRandomForestModelBuilder.fit_random_forest\u001b[0;34m(self, test_size, random_state, n_estimators, max_depth, ccp_alpha)\u001b[0m\n\u001b[1;32m    139\u001b[0m X_train, X_test, y_train, y_test \u001b[38;5;241m=\u001b[39m train_test_split(\n\u001b[1;32m    140\u001b[0m     X, y, test_size\u001b[38;5;241m=\u001b[39mtest_size, random_state\u001b[38;5;241m=\u001b[39mrandom_state\n\u001b[1;32m    141\u001b[0m )\n\u001b[1;32m    143\u001b[0m model \u001b[38;5;241m=\u001b[39m Pipeline(\n\u001b[1;32m    144\u001b[0m     [\n\u001b[1;32m    145\u001b[0m         (\u001b[38;5;124m\"\u001b[39m\u001b[38;5;124mscaler\u001b[39m\u001b[38;5;124m\"\u001b[39m, StandardScaler()),\n\u001b[0;32m   (...)\u001b[0m\n\u001b[1;32m    156\u001b[0m     ]\n\u001b[1;32m    157\u001b[0m )\n\u001b[0;32m--> 158\u001b[0m \u001b[43mmodel\u001b[49m\u001b[38;5;241;43m.\u001b[39;49m\u001b[43mfit\u001b[49m\u001b[43m(\u001b[49m\u001b[43mX_train\u001b[49m\u001b[43m,\u001b[49m\u001b[43m \u001b[49m\u001b[43my_train\u001b[49m\u001b[43m)\u001b[49m\n\u001b[1;32m    160\u001b[0m \u001b[38;5;66;03m# Predict the outcome on the training and testing data\u001b[39;00m\n\u001b[1;32m    161\u001b[0m y_pred_train \u001b[38;5;241m=\u001b[39m model\u001b[38;5;241m.\u001b[39mpredict(X_train)\n",
      "File \u001b[0;32m~/Documents/Classes/566/Project/566well-being/.venv/lib/python3.11/site-packages/sklearn/base.py:1473\u001b[0m, in \u001b[0;36m_fit_context.<locals>.decorator.<locals>.wrapper\u001b[0;34m(estimator, *args, **kwargs)\u001b[0m\n\u001b[1;32m   1466\u001b[0m     estimator\u001b[38;5;241m.\u001b[39m_validate_params()\n\u001b[1;32m   1468\u001b[0m \u001b[38;5;28;01mwith\u001b[39;00m config_context(\n\u001b[1;32m   1469\u001b[0m     skip_parameter_validation\u001b[38;5;241m=\u001b[39m(\n\u001b[1;32m   1470\u001b[0m         prefer_skip_nested_validation \u001b[38;5;129;01mor\u001b[39;00m global_skip_validation\n\u001b[1;32m   1471\u001b[0m     )\n\u001b[1;32m   1472\u001b[0m ):\n\u001b[0;32m-> 1473\u001b[0m     \u001b[38;5;28;01mreturn\u001b[39;00m \u001b[43mfit_method\u001b[49m\u001b[43m(\u001b[49m\u001b[43mestimator\u001b[49m\u001b[43m,\u001b[49m\u001b[43m \u001b[49m\u001b[38;5;241;43m*\u001b[39;49m\u001b[43margs\u001b[49m\u001b[43m,\u001b[49m\u001b[43m \u001b[49m\u001b[38;5;241;43m*\u001b[39;49m\u001b[38;5;241;43m*\u001b[39;49m\u001b[43mkwargs\u001b[49m\u001b[43m)\u001b[49m\n",
      "File \u001b[0;32m~/Documents/Classes/566/Project/566well-being/.venv/lib/python3.11/site-packages/sklearn/pipeline.py:476\u001b[0m, in \u001b[0;36mPipeline.fit\u001b[0;34m(self, X, y, **params)\u001b[0m\n\u001b[1;32m    474\u001b[0m     \u001b[38;5;28;01mif\u001b[39;00m \u001b[38;5;28mself\u001b[39m\u001b[38;5;241m.\u001b[39m_final_estimator \u001b[38;5;241m!=\u001b[39m \u001b[38;5;124m\"\u001b[39m\u001b[38;5;124mpassthrough\u001b[39m\u001b[38;5;124m\"\u001b[39m:\n\u001b[1;32m    475\u001b[0m         last_step_params \u001b[38;5;241m=\u001b[39m routed_params[\u001b[38;5;28mself\u001b[39m\u001b[38;5;241m.\u001b[39msteps[\u001b[38;5;241m-\u001b[39m\u001b[38;5;241m1\u001b[39m][\u001b[38;5;241m0\u001b[39m]]\n\u001b[0;32m--> 476\u001b[0m         \u001b[38;5;28;43mself\u001b[39;49m\u001b[38;5;241;43m.\u001b[39;49m\u001b[43m_final_estimator\u001b[49m\u001b[38;5;241;43m.\u001b[39;49m\u001b[43mfit\u001b[49m\u001b[43m(\u001b[49m\u001b[43mXt\u001b[49m\u001b[43m,\u001b[49m\u001b[43m \u001b[49m\u001b[43my\u001b[49m\u001b[43m,\u001b[49m\u001b[43m \u001b[49m\u001b[38;5;241;43m*\u001b[39;49m\u001b[38;5;241;43m*\u001b[39;49m\u001b[43mlast_step_params\u001b[49m\u001b[43m[\u001b[49m\u001b[38;5;124;43m\"\u001b[39;49m\u001b[38;5;124;43mfit\u001b[39;49m\u001b[38;5;124;43m\"\u001b[39;49m\u001b[43m]\u001b[49m\u001b[43m)\u001b[49m\n\u001b[1;32m    478\u001b[0m \u001b[38;5;28;01mreturn\u001b[39;00m \u001b[38;5;28mself\u001b[39m\n",
      "File \u001b[0;32m~/Documents/Classes/566/Project/566well-being/.venv/lib/python3.11/site-packages/sklearn/base.py:1473\u001b[0m, in \u001b[0;36m_fit_context.<locals>.decorator.<locals>.wrapper\u001b[0;34m(estimator, *args, **kwargs)\u001b[0m\n\u001b[1;32m   1466\u001b[0m     estimator\u001b[38;5;241m.\u001b[39m_validate_params()\n\u001b[1;32m   1468\u001b[0m \u001b[38;5;28;01mwith\u001b[39;00m config_context(\n\u001b[1;32m   1469\u001b[0m     skip_parameter_validation\u001b[38;5;241m=\u001b[39m(\n\u001b[1;32m   1470\u001b[0m         prefer_skip_nested_validation \u001b[38;5;129;01mor\u001b[39;00m global_skip_validation\n\u001b[1;32m   1471\u001b[0m     )\n\u001b[1;32m   1472\u001b[0m ):\n\u001b[0;32m-> 1473\u001b[0m     \u001b[38;5;28;01mreturn\u001b[39;00m \u001b[43mfit_method\u001b[49m\u001b[43m(\u001b[49m\u001b[43mestimator\u001b[49m\u001b[43m,\u001b[49m\u001b[43m \u001b[49m\u001b[38;5;241;43m*\u001b[39;49m\u001b[43margs\u001b[49m\u001b[43m,\u001b[49m\u001b[43m \u001b[49m\u001b[38;5;241;43m*\u001b[39;49m\u001b[38;5;241;43m*\u001b[39;49m\u001b[43mkwargs\u001b[49m\u001b[43m)\u001b[49m\n",
      "File \u001b[0;32m~/Documents/Classes/566/Project/566well-being/.venv/lib/python3.11/site-packages/sklearn/ensemble/_forest.py:489\u001b[0m, in \u001b[0;36mBaseForest.fit\u001b[0;34m(self, X, y, sample_weight)\u001b[0m\n\u001b[1;32m    478\u001b[0m trees \u001b[38;5;241m=\u001b[39m [\n\u001b[1;32m    479\u001b[0m     \u001b[38;5;28mself\u001b[39m\u001b[38;5;241m.\u001b[39m_make_estimator(append\u001b[38;5;241m=\u001b[39m\u001b[38;5;28;01mFalse\u001b[39;00m, random_state\u001b[38;5;241m=\u001b[39mrandom_state)\n\u001b[1;32m    480\u001b[0m     \u001b[38;5;28;01mfor\u001b[39;00m i \u001b[38;5;129;01min\u001b[39;00m \u001b[38;5;28mrange\u001b[39m(n_more_estimators)\n\u001b[1;32m    481\u001b[0m ]\n\u001b[1;32m    483\u001b[0m \u001b[38;5;66;03m# Parallel loop: we prefer the threading backend as the Cython code\u001b[39;00m\n\u001b[1;32m    484\u001b[0m \u001b[38;5;66;03m# for fitting the trees is internally releasing the Python GIL\u001b[39;00m\n\u001b[1;32m    485\u001b[0m \u001b[38;5;66;03m# making threading more efficient than multiprocessing in\u001b[39;00m\n\u001b[1;32m    486\u001b[0m \u001b[38;5;66;03m# that case. However, for joblib 0.12+ we respect any\u001b[39;00m\n\u001b[1;32m    487\u001b[0m \u001b[38;5;66;03m# parallel_backend contexts set at a higher level,\u001b[39;00m\n\u001b[1;32m    488\u001b[0m \u001b[38;5;66;03m# since correctness does not rely on using threads.\u001b[39;00m\n\u001b[0;32m--> 489\u001b[0m trees \u001b[38;5;241m=\u001b[39m \u001b[43mParallel\u001b[49m\u001b[43m(\u001b[49m\n\u001b[1;32m    490\u001b[0m \u001b[43m    \u001b[49m\u001b[43mn_jobs\u001b[49m\u001b[38;5;241;43m=\u001b[39;49m\u001b[38;5;28;43mself\u001b[39;49m\u001b[38;5;241;43m.\u001b[39;49m\u001b[43mn_jobs\u001b[49m\u001b[43m,\u001b[49m\n\u001b[1;32m    491\u001b[0m \u001b[43m    \u001b[49m\u001b[43mverbose\u001b[49m\u001b[38;5;241;43m=\u001b[39;49m\u001b[38;5;28;43mself\u001b[39;49m\u001b[38;5;241;43m.\u001b[39;49m\u001b[43mverbose\u001b[49m\u001b[43m,\u001b[49m\n\u001b[1;32m    492\u001b[0m \u001b[43m    \u001b[49m\u001b[43mprefer\u001b[49m\u001b[38;5;241;43m=\u001b[39;49m\u001b[38;5;124;43m\"\u001b[39;49m\u001b[38;5;124;43mthreads\u001b[39;49m\u001b[38;5;124;43m\"\u001b[39;49m\u001b[43m,\u001b[49m\n\u001b[1;32m    493\u001b[0m \u001b[43m\u001b[49m\u001b[43m)\u001b[49m\u001b[43m(\u001b[49m\n\u001b[1;32m    494\u001b[0m \u001b[43m    \u001b[49m\u001b[43mdelayed\u001b[49m\u001b[43m(\u001b[49m\u001b[43m_parallel_build_trees\u001b[49m\u001b[43m)\u001b[49m\u001b[43m(\u001b[49m\n\u001b[1;32m    495\u001b[0m \u001b[43m        \u001b[49m\u001b[43mt\u001b[49m\u001b[43m,\u001b[49m\n\u001b[1;32m    496\u001b[0m \u001b[43m        \u001b[49m\u001b[38;5;28;43mself\u001b[39;49m\u001b[38;5;241;43m.\u001b[39;49m\u001b[43mbootstrap\u001b[49m\u001b[43m,\u001b[49m\n\u001b[1;32m    497\u001b[0m \u001b[43m        \u001b[49m\u001b[43mX\u001b[49m\u001b[43m,\u001b[49m\n\u001b[1;32m    498\u001b[0m \u001b[43m        \u001b[49m\u001b[43my\u001b[49m\u001b[43m,\u001b[49m\n\u001b[1;32m    499\u001b[0m \u001b[43m        \u001b[49m\u001b[43msample_weight\u001b[49m\u001b[43m,\u001b[49m\n\u001b[1;32m    500\u001b[0m \u001b[43m        \u001b[49m\u001b[43mi\u001b[49m\u001b[43m,\u001b[49m\n\u001b[1;32m    501\u001b[0m \u001b[43m        \u001b[49m\u001b[38;5;28;43mlen\u001b[39;49m\u001b[43m(\u001b[49m\u001b[43mtrees\u001b[49m\u001b[43m)\u001b[49m\u001b[43m,\u001b[49m\n\u001b[1;32m    502\u001b[0m \u001b[43m        \u001b[49m\u001b[43mverbose\u001b[49m\u001b[38;5;241;43m=\u001b[39;49m\u001b[38;5;28;43mself\u001b[39;49m\u001b[38;5;241;43m.\u001b[39;49m\u001b[43mverbose\u001b[49m\u001b[43m,\u001b[49m\n\u001b[1;32m    503\u001b[0m \u001b[43m        \u001b[49m\u001b[43mclass_weight\u001b[49m\u001b[38;5;241;43m=\u001b[39;49m\u001b[38;5;28;43mself\u001b[39;49m\u001b[38;5;241;43m.\u001b[39;49m\u001b[43mclass_weight\u001b[49m\u001b[43m,\u001b[49m\n\u001b[1;32m    504\u001b[0m \u001b[43m        \u001b[49m\u001b[43mn_samples_bootstrap\u001b[49m\u001b[38;5;241;43m=\u001b[39;49m\u001b[43mn_samples_bootstrap\u001b[49m\u001b[43m,\u001b[49m\n\u001b[1;32m    505\u001b[0m \u001b[43m        \u001b[49m\u001b[43mmissing_values_in_feature_mask\u001b[49m\u001b[38;5;241;43m=\u001b[39;49m\u001b[43mmissing_values_in_feature_mask\u001b[49m\u001b[43m,\u001b[49m\n\u001b[1;32m    506\u001b[0m \u001b[43m    \u001b[49m\u001b[43m)\u001b[49m\n\u001b[1;32m    507\u001b[0m \u001b[43m    \u001b[49m\u001b[38;5;28;43;01mfor\u001b[39;49;00m\u001b[43m \u001b[49m\u001b[43mi\u001b[49m\u001b[43m,\u001b[49m\u001b[43m \u001b[49m\u001b[43mt\u001b[49m\u001b[43m \u001b[49m\u001b[38;5;129;43;01min\u001b[39;49;00m\u001b[43m \u001b[49m\u001b[38;5;28;43menumerate\u001b[39;49m\u001b[43m(\u001b[49m\u001b[43mtrees\u001b[49m\u001b[43m)\u001b[49m\n\u001b[1;32m    508\u001b[0m \u001b[43m\u001b[49m\u001b[43m)\u001b[49m\n\u001b[1;32m    510\u001b[0m \u001b[38;5;66;03m# Collect newly grown trees\u001b[39;00m\n\u001b[1;32m    511\u001b[0m \u001b[38;5;28mself\u001b[39m\u001b[38;5;241m.\u001b[39mestimators_\u001b[38;5;241m.\u001b[39mextend(trees)\n",
      "File \u001b[0;32m~/Documents/Classes/566/Project/566well-being/.venv/lib/python3.11/site-packages/sklearn/utils/parallel.py:67\u001b[0m, in \u001b[0;36mParallel.__call__\u001b[0;34m(self, iterable)\u001b[0m\n\u001b[1;32m     62\u001b[0m config \u001b[38;5;241m=\u001b[39m get_config()\n\u001b[1;32m     63\u001b[0m iterable_with_config \u001b[38;5;241m=\u001b[39m (\n\u001b[1;32m     64\u001b[0m     (_with_config(delayed_func, config), args, kwargs)\n\u001b[1;32m     65\u001b[0m     \u001b[38;5;28;01mfor\u001b[39;00m delayed_func, args, kwargs \u001b[38;5;129;01min\u001b[39;00m iterable\n\u001b[1;32m     66\u001b[0m )\n\u001b[0;32m---> 67\u001b[0m \u001b[38;5;28;01mreturn\u001b[39;00m \u001b[38;5;28;43msuper\u001b[39;49m\u001b[43m(\u001b[49m\u001b[43m)\u001b[49m\u001b[38;5;241;43m.\u001b[39;49m\u001b[38;5;21;43m__call__\u001b[39;49m\u001b[43m(\u001b[49m\u001b[43miterable_with_config\u001b[49m\u001b[43m)\u001b[49m\n",
      "File \u001b[0;32m~/Documents/Classes/566/Project/566well-being/.venv/lib/python3.11/site-packages/joblib/parallel.py:2007\u001b[0m, in \u001b[0;36mParallel.__call__\u001b[0;34m(self, iterable)\u001b[0m\n\u001b[1;32m   2001\u001b[0m \u001b[38;5;66;03m# The first item from the output is blank, but it makes the interpreter\u001b[39;00m\n\u001b[1;32m   2002\u001b[0m \u001b[38;5;66;03m# progress until it enters the Try/Except block of the generator and\u001b[39;00m\n\u001b[1;32m   2003\u001b[0m \u001b[38;5;66;03m# reaches the first `yield` statement. This starts the asynchronous\u001b[39;00m\n\u001b[1;32m   2004\u001b[0m \u001b[38;5;66;03m# dispatch of the tasks to the workers.\u001b[39;00m\n\u001b[1;32m   2005\u001b[0m \u001b[38;5;28mnext\u001b[39m(output)\n\u001b[0;32m-> 2007\u001b[0m \u001b[38;5;28;01mreturn\u001b[39;00m output \u001b[38;5;28;01mif\u001b[39;00m \u001b[38;5;28mself\u001b[39m\u001b[38;5;241m.\u001b[39mreturn_generator \u001b[38;5;28;01melse\u001b[39;00m \u001b[38;5;28mlist\u001b[39m(output)\n",
      "File \u001b[0;32m~/Documents/Classes/566/Project/566well-being/.venv/lib/python3.11/site-packages/joblib/parallel.py:1650\u001b[0m, in \u001b[0;36mParallel._get_outputs\u001b[0;34m(self, iterator, pre_dispatch)\u001b[0m\n\u001b[1;32m   1647\u001b[0m     \u001b[38;5;28;01myield\u001b[39;00m\n\u001b[1;32m   1649\u001b[0m     \u001b[38;5;28;01mwith\u001b[39;00m \u001b[38;5;28mself\u001b[39m\u001b[38;5;241m.\u001b[39m_backend\u001b[38;5;241m.\u001b[39mretrieval_context():\n\u001b[0;32m-> 1650\u001b[0m         \u001b[38;5;28;01myield from\u001b[39;00m \u001b[38;5;28mself\u001b[39m\u001b[38;5;241m.\u001b[39m_retrieve()\n\u001b[1;32m   1652\u001b[0m \u001b[38;5;28;01mexcept\u001b[39;00m \u001b[38;5;167;01mGeneratorExit\u001b[39;00m:\n\u001b[1;32m   1653\u001b[0m     \u001b[38;5;66;03m# The generator has been garbage collected before being fully\u001b[39;00m\n\u001b[1;32m   1654\u001b[0m     \u001b[38;5;66;03m# consumed. This aborts the remaining tasks if possible and warn\u001b[39;00m\n\u001b[1;32m   1655\u001b[0m     \u001b[38;5;66;03m# the user if necessary.\u001b[39;00m\n\u001b[1;32m   1656\u001b[0m     \u001b[38;5;28mself\u001b[39m\u001b[38;5;241m.\u001b[39m_exception \u001b[38;5;241m=\u001b[39m \u001b[38;5;28;01mTrue\u001b[39;00m\n",
      "File \u001b[0;32m~/Documents/Classes/566/Project/566well-being/.venv/lib/python3.11/site-packages/joblib/parallel.py:1762\u001b[0m, in \u001b[0;36mParallel._retrieve\u001b[0;34m(self)\u001b[0m\n\u001b[1;32m   1757\u001b[0m \u001b[38;5;66;03m# If the next job is not ready for retrieval yet, we just wait for\u001b[39;00m\n\u001b[1;32m   1758\u001b[0m \u001b[38;5;66;03m# async callbacks to progress.\u001b[39;00m\n\u001b[1;32m   1759\u001b[0m \u001b[38;5;28;01mif\u001b[39;00m ((\u001b[38;5;28mlen\u001b[39m(\u001b[38;5;28mself\u001b[39m\u001b[38;5;241m.\u001b[39m_jobs) \u001b[38;5;241m==\u001b[39m \u001b[38;5;241m0\u001b[39m) \u001b[38;5;129;01mor\u001b[39;00m\n\u001b[1;32m   1760\u001b[0m     (\u001b[38;5;28mself\u001b[39m\u001b[38;5;241m.\u001b[39m_jobs[\u001b[38;5;241m0\u001b[39m]\u001b[38;5;241m.\u001b[39mget_status(\n\u001b[1;32m   1761\u001b[0m         timeout\u001b[38;5;241m=\u001b[39m\u001b[38;5;28mself\u001b[39m\u001b[38;5;241m.\u001b[39mtimeout) \u001b[38;5;241m==\u001b[39m TASK_PENDING)):\n\u001b[0;32m-> 1762\u001b[0m     time\u001b[38;5;241m.\u001b[39msleep(\u001b[38;5;241m0.01\u001b[39m)\n\u001b[1;32m   1763\u001b[0m     \u001b[38;5;28;01mcontinue\u001b[39;00m\n\u001b[1;32m   1765\u001b[0m \u001b[38;5;66;03m# We need to be careful: the job list can be filling up as\u001b[39;00m\n\u001b[1;32m   1766\u001b[0m \u001b[38;5;66;03m# we empty it and Python list are not thread-safe by\u001b[39;00m\n\u001b[1;32m   1767\u001b[0m \u001b[38;5;66;03m# default hence the use of the lock\u001b[39;00m\n",
      "\u001b[0;31mKeyboardInterrupt\u001b[0m: "
     ]
    }
   ],
   "source": [
    "# index = 17\n",
    "# model_row = sets_df.iloc[index]\n",
    "\n",
    "already_fitted_sets = []\n",
    "ccp_alpha = 0\n",
    "n_estimatorss = [600]\n",
    "\n",
    "for index, model_row in sets_df.iterrows():\n",
    "    n_estimators = n_estimatorss[0]\n",
    "    covariate_set = CovariateSet(\n",
    "        row=model_row,\n",
    "        data=df,\n",
    "        outcomes_to_skip=skip_emas,\n",
    "        treatments_to_skip=skip_treatments,\n",
    "    )\n",
    "\n",
    "    if not covariate_set.valid_set:\n",
    "        logger.debug(f\"Skipping {covariate_set} (no valid set)\")\n",
    "        continue\n",
    "\n",
    "    if covariate_set.set_to_fit in already_fitted_sets:\n",
    "        logger.debug(\n",
    "            f\"Skipping {covariate_set} (already did {covariate_set.set_to_fit})\"\n",
    "        )\n",
    "        continue\n",
    "\n",
    "    already_fitted_sets.append(covariate_set.set_to_fit)\n",
    "    logger.info(f\"Fitting\\n{covariate_set!r}\")\n",
    "    logger.info(\n",
    "        f\"Median of {covariate_set.treatment} {df[covariate_set.treatment].median()}\"\n",
    "    )\n",
    "    wbm = WBRandomForestModel(\n",
    "        data=df,\n",
    "        n_estimators=n_estimators,\n",
    "        ccp_alpha=ccp_alpha,\n",
    "        treatment=covariate_set.treatment,\n",
    "        outcome=covariate_set.outcome,\n",
    "        separating_set=covariate_set.restricted_adjustment_set,\n",
    "        name=f\"row:{index}\",\n",
    "    )\n",
    "    logger.info(\n",
    "        f\"\\nccp_alpha ={ccp_alpha}, n_estimators={n_estimators}, \"\n",
    "        f\"pre_rsq train={wbm.pre_r_squared[0]}, pre_rsq test={wbm.pre_r_squared[1]}\\n\"\n",
    "        f\"pre mae test ={wbm.pre_r_squared[2]}\\n\"\n",
    "        f\"post_rsq train={wbm.pre_r_squared[0]}, post_rsq test={wbm.pre_r_squared[1]}\\n\"\n",
    "    )\n",
    "    logger.info(\"-----------------------------------------------------\\n\")"
   ]
  }
 ],
 "metadata": {
  "kernelspec": {
   "display_name": ".venv",
   "language": "python",
   "name": "python3"
  },
  "language_info": {
   "codemirror_mode": {
    "name": "ipython",
    "version": 3
   },
   "file_extension": ".py",
   "mimetype": "text/x-python",
   "name": "python",
   "nbconvert_exporter": "python",
   "pygments_lexer": "ipython3",
   "version": "3.11.0"
  }
 },
 "nbformat": 4,
 "nbformat_minor": 2
}
