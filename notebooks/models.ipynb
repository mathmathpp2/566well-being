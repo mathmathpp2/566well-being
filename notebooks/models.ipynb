{
 "cells": [
  {
   "cell_type": "code",
   "execution_count": 19,
   "metadata": {},
   "outputs": [
    {
     "name": "stdout",
     "output_type": "stream",
     "text": [
      "The autoreload extension is already loaded. To reload it, use:\n",
      "  %reload_ext autoreload\n"
     ]
    }
   ],
   "source": [
    "%load_ext autoreload\n",
    "%autoreload 2\n",
    "\n",
    "import pandas as pd\n",
    "from sklearn.metrics import accuracy_score, r2_score\n",
    "from models import *"
   ]
  },
  {
   "cell_type": "code",
   "execution_count": 20,
   "metadata": {},
   "outputs": [],
   "source": [
    "\n",
    "df = pd.read_csv(datafile)\n",
    "df[\"date\"] = pd.to_datetime(df[\"day_survey\"])\n",
    "df['C'] = df['date'].apply(lambda date: COVIDStatus.POST_COVID if date > date_covid else COVIDStatus.PRE_COVID)\n",
    "\n",
    "df_head = df.head(5).copy()\n",
    "\n",
    "df.rename(columns=reverse_ema_dictionary, inplace=True)\n",
    "df.set_index([\"uid\", \"date\"], inplace=True)\n",
    "df.dropna(subset=ema + physical + social + sleep, inplace=True)\n",
    "\n",
    "sets_df = pd.read_parquet(sets_file, engine='pyarrow')"
   ]
  },
  {
   "cell_type": "code",
   "execution_count": 21,
   "metadata": {},
   "outputs": [
    {
     "name": "stdout",
     "output_type": "stream",
     "text": [
      "Modeling yreatment:duration unlocked phone in social locations on outcome:phq2_score\n",
      "Binarizing using median value\n",
      "Directory 20240527_201854_734872 created.\n",
      "gamma=0.2, alpha=0.1, pre_rsq=(0.6266832563645484, 0.23019788131897034) post_r_sq=(0.7644432161302293, 0.185420484652273)\n",
      "Modeling yreatment:duration unlocked phone in social locations on outcome:phq2_score\n",
      "Binarizing using median value\n",
      "Directory 20240527_201909_363658 created.\n",
      "gamma=0.3, alpha=0.1, pre_rsq=(0.741561353799443, 0.20685635832817573) post_r_sq=(0.8412399071948569, 0.21219028093323777)\n",
      "Modeling yreatment:duration unlocked phone in social locations on outcome:phq2_score\n",
      "Binarizing using median value\n",
      "Directory 20240527_202338_459825 created.\n",
      "gamma=0.5, alpha=0.1, pre_rsq=(0.8531888225168781, 0.20949923086481392) post_r_sq=(0.9139538618253462, 0.1678845330994968)\n",
      "Modeling yreatment:duration unlocked phone in social locations on outcome:phq2_score\n",
      "Binarizing using median value\n",
      "Directory 20240527_202354_184046 created.\n",
      "gamma=0.2, alpha=0.2, pre_rsq=(0.5711444676953072, 0.250971570939564) post_r_sq=(0.7057167844063041, 0.2918863389569134)\n",
      "Modeling yreatment:duration unlocked phone in social locations on outcome:phq2_score\n",
      "Binarizing using median value\n",
      "Directory 20240527_202408_660339 created.\n",
      "gamma=0.3, alpha=0.2, pre_rsq=(0.6750850709639131, 0.21559633736731065) post_r_sq=(0.7872059269484809, 0.2793824332694673)\n",
      "Modeling yreatment:duration unlocked phone in social locations on outcome:phq2_score\n",
      "Binarizing using median value\n",
      "Directory 20240527_202424_131856 created.\n",
      "gamma=0.5, alpha=0.2, pre_rsq=(0.7893271264227766, 0.2610997434872271) post_r_sq=(0.8541714678288712, 0.2906810909484394)\n",
      "Modeling yreatment:duration unlocked phone in social locations on outcome:phq2_score\n",
      "Binarizing using median value\n",
      "Directory 20240527_202442_732092 created.\n",
      "gamma=0.2, alpha=0.4, pre_rsq=(0.5148751180433324, 0.22442332533610576) post_r_sq=(0.6386988009400623, 0.2511761804681091)\n",
      "Modeling yreatment:duration unlocked phone in social locations on outcome:phq2_score\n",
      "Binarizing using median value\n",
      "Directory 20240527_202459_529801 created.\n",
      "gamma=0.3, alpha=0.4, pre_rsq=(0.6026490008754677, 0.2408494806868866) post_r_sq=(0.6977563018615314, 0.3203637693355237)\n",
      "Modeling yreatment:duration unlocked phone in social locations on outcome:phq2_score\n",
      "Binarizing using median value\n",
      "Directory 20240527_202516_599748 created.\n",
      "gamma=0.5, alpha=0.4, pre_rsq=(0.7122346266815595, 0.2471860998637655) post_r_sq=(0.7892238830238052, 0.18226784712378952)\n"
     ]
    }
   ],
   "source": [
    "index = 51\n",
    "model_rows = [sets_df.iloc[index]]\n",
    "#for index, model_row in sets_df.iterrows():\n",
    "\n",
    "alphas = [0.1, 0.2]\n",
    "gammas = [0.3, 0.5]\n",
    "\n",
    "for alpha in alphas:\n",
    "    for gamma in gammas:\n",
    "        for model_row in model_rows:\n",
    "            print(f\"Modeling yreatment:{full_dictionary[model_row['treatment']]} on outcome:{full_dictionary[model_row['outcome']]}\")\n",
    "            # people can't change their demographics.. except maybe OS :)\n",
    "            if model_row['treatment'].startswith('D'):\n",
    "                print(f\"Skippnig demographic treatment {model_row['treatment']}\")\n",
    "                continue\n",
    "            wbm = WBKernelModel(\n",
    "                data=df,\n",
    "                gamma=gamma,\n",
    "                alpha=alpha,\n",
    "                #activation='relu',\n",
    "                #max_iter=1000,\n",
    "                #hidden_layer_sizes=(32,8,4),\n",
    "                treatment=model_row['treatment'],\n",
    "                outcome=model_row['outcome'],\n",
    "                separating_set=model_row['sets'].tolist(),\n",
    "                name=f\"row:{index}\"\n",
    "                )\n",
    "\n",
    "            print(f\"gamma={gamma}, alpha={alpha}, pre_rsq={wbm.pre_r_squared} post_r_sq={wbm.post_r_squared}\")"
   ]
  },
  {
   "cell_type": "code",
   "execution_count": 22,
   "metadata": {},
   "outputs": [],
   "source": [
    "results_df = aggregate_results_from_subfolders('.')\n",
    "results_df.to_csv('results.csv')"
   ]
  }
 ],
 "metadata": {
  "kernelspec": {
   "display_name": ".venv",
   "language": "python",
   "name": "python3"
  },
  "language_info": {
   "codemirror_mode": {
    "name": "ipython",
    "version": 3
   },
   "file_extension": ".py",
   "mimetype": "text/x-python",
   "name": "python",
   "nbconvert_exporter": "python",
   "pygments_lexer": "ipython3",
   "version": "3.11.0"
  }
 },
 "nbformat": 4,
 "nbformat_minor": 2
}
