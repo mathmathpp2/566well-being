{
 "cells": [
  {
   "cell_type": "code",
   "execution_count": 12,
   "metadata": {},
   "outputs": [
    {
     "name": "stdout",
     "output_type": "stream",
     "text": [
      "The autoreload extension is already loaded. To reload it, use:\n",
      "  %reload_ext autoreload\n"
     ]
    }
   ],
   "source": [
    "%load_ext autoreload\n",
    "%autoreload 2\n",
    "\n",
    "from webbrowser import get\n",
    "import pandas as pd\n",
    "from sklearn.metrics import accuracy_score, r2_score\n",
    "from models import *\n",
    "import logging\n",
    "from pretty_logger import get_logger\n",
    "from pathlib import Path\n",
    "import matplotlib.pyplot as plt\n",
    "import seaborn as sns"
   ]
  },
  {
   "cell_type": "code",
   "execution_count": 13,
   "metadata": {},
   "outputs": [
    {
     "name": "stdout",
     "output_type": "stream",
     "text": [
      "Length before dropna: 34706\n",
      "Length a dropna: 16311\n"
     ]
    }
   ],
   "source": [
    "df = pd.read_csv(datafile)\n",
    "df[\"date\"] = pd.to_datetime(df[\"day_survey\"])\n",
    "df[\"C\"] = df[\"date\"].apply(\n",
    "    lambda date: (\n",
    "        COVIDStatus.POST_COVID if date > date_covid else COVIDStatus.PRE_COVID\n",
    "    )\n",
    ")\n",
    "\n",
    "df_head = df.head(5).copy()\n",
    "\n",
    "df.rename(columns=reverse_ema_dictionary, inplace=True)\n",
    "df.set_index([\"uid\", \"date\"], inplace=True)\n",
    "len_before_drop_na = len(df)\n",
    "df.dropna(subset=ema + physical + social, inplace=True)\n",
    "# df.dropna(subset=ema, inplace=True)\n",
    "\n",
    "len_after_drop_na = len(df)\n",
    "print(\n",
    "    f\"Length before dropna: {len_before_drop_na}\\n\"\n",
    "    f\"Length a dropna: {len_after_drop_na}\"\n",
    ")\n",
    "\n",
    "sets_df = pd.read_parquet(sets_file, engine=\"pyarrow\")"
   ]
  },
  {
   "cell_type": "code",
   "execution_count": 14,
   "metadata": {},
   "outputs": [
    {
     "data": {
      "text/plain": [
       "{'P1': 'excercise',\n",
       " 'P2': 'studying',\n",
       " 'P3': 'in house',\n",
       " 'P4': 'sports',\n",
       " 'S1': 'traveling',\n",
       " 'S2': 'distance traveled',\n",
       " 'S3': 'time in social location',\n",
       " 'S4': 'visits',\n",
       " 'S5': 'duration unlocked phone in social locations',\n",
       " 'S6': 'frequency of unlocked phone in social locations',\n",
       " 'S7': 'motion at social locations',\n",
       " 'Z1': 'sleep_duration',\n",
       " 'Z2': 'sleep start time',\n",
       " 'Z3': 'sleep end time',\n",
       " 'Y1': 'pam',\n",
       " 'Y2': 'phq4_score',\n",
       " 'Y3': 'phq2_score',\n",
       " 'Y4': 'gad2_score',\n",
       " 'Y5': 'social_level',\n",
       " 'Y6': 'sse_score',\n",
       " 'Y7': 'stress',\n",
       " 'C': <enum 'COVIDStatus'>,\n",
       " 'D1': 'gender',\n",
       " 'D2': 'race',\n",
       " 'D3': 'os',\n",
       " 'D4': 'cohort year'}"
      ]
     },
     "execution_count": 14,
     "metadata": {},
     "output_type": "execute_result"
    }
   ],
   "source": [
    "full_dictionary"
   ]
  },
  {
   "cell_type": "code",
   "execution_count": 15,
   "metadata": {},
   "outputs": [
    {
     "data": {
      "text/plain": [
       "0.07491876647661087"
      ]
     },
     "execution_count": 15,
     "metadata": {},
     "output_type": "execute_result"
    }
   ],
   "source": [
    "# GAD2 > 3\n",
    "# https://www.hiv.uw.edu/page/mental-health-screening/gad-2\n",
    "(df[\"Y4\"] > 3).sum() / len(df)"
   ]
  },
  {
   "cell_type": "code",
   "execution_count": 16,
   "metadata": {},
   "outputs": [
    {
     "name": "stdout",
     "output_type": "stream",
     "text": [
      "PHQ2 greater than 3 in precovid: 0.22070995034026117\n",
      "PHQ2 greater than 3 in postcovid: 0.05395132119428606\n"
     ]
    }
   ],
   "source": [
    "# PHQ2 > 3\n",
    "# https://www.hiv.uw.edu/page/mental-health-screening/phq-2\n",
    "precovid_phq2_greater_than_3 = (\n",
    "    df[df[\"C\"] == COVIDStatus.PRE_COVID][\"Y2\"] > 3\n",
    ").sum() / len(df)\n",
    "\n",
    "postcovid_phq2_greater_than_3 = (\n",
    "    df[df[\"C\"] == COVIDStatus.POST_COVID][\"Y2\"] > 3\n",
    ").sum() / len(df)\n",
    "\n",
    "print(f\"PHQ2 greater than 3 in precovid: {precovid_phq2_greater_than_3}\")\n",
    "print(f\"PHQ2 greater than 3 in postcovid: {postcovid_phq2_greater_than_3}\")"
   ]
  },
  {
   "cell_type": "code",
   "execution_count": 17,
   "metadata": {},
   "outputs": [
    {
     "data": {
      "text/plain": [
       "count    2844.000000\n",
       "mean        2.614627\n",
       "std         2.734058\n",
       "min         0.000000\n",
       "25%         0.000000\n",
       "50%         2.000000\n",
       "75%         4.000000\n",
       "max        12.000000\n",
       "Name: Y2, dtype: float64"
      ]
     },
     "execution_count": 17,
     "metadata": {},
     "output_type": "execute_result"
    }
   ],
   "source": [
    "df[df[\"C\"] == COVIDStatus.POST_COVID][\"Y2\"].describe()"
   ]
  },
  {
   "cell_type": "code",
   "execution_count": 18,
   "metadata": {},
   "outputs": [],
   "source": [
    "def pre_and_post_distributions(df: pd.DataFrame, column: str):\n",
    "    colorpre = \"green\"\n",
    "    colorpost = \"orangered\"\n",
    "    nbins = 6\n",
    "    alpha = 0.4\n",
    "    fig, ax = plt.subplots(figsize=(10, 6))\n",
    "    sns.histplot(\n",
    "        df[df[\"C\"] == COVIDStatus.POST_COVID][column],\n",
    "        bins=nbins,\n",
    "        edgecolor=\"k\",\n",
    "        alpha=alpha,\n",
    "        color=colorpost,\n",
    "        label=\"postcovid\",\n",
    "        stat=\"probability\",\n",
    "        ax=ax,\n",
    "    )\n",
    "    sns.histplot(\n",
    "        df[df[\"C\"] == COVIDStatus.PRE_COVID][column],\n",
    "        bins=nbins,\n",
    "        edgecolor=\"k\",\n",
    "        alpha=alpha,\n",
    "        color=colorpre,\n",
    "        label=\"precovid\",\n",
    "        stat=\"probability\",\n",
    "        ax=ax,\n",
    "    )\n",
    "    ax.set_xlabel(\"Value\")\n",
    "    ax.set_ylabel(\"Frequency\")\n",
    "    ax.legend()\n",
    "    fig.suptitle(f\"{column}={full_dictionary[column]}\")\n",
    "\n",
    "    fig.savefig(Path(project_root, \"temp\", f\"Pre_and_post_{column}.png\"))\n",
    "    fig.savefig(Path(project_root, \"temp\", f\"Pre_and_post_{column}.svg\"))\n",
    "    plt.close(fig)\n",
    "    return ax"
   ]
  },
  {
   "cell_type": "code",
   "execution_count": 19,
   "metadata": {},
   "outputs": [
    {
     "name": "stdout",
     "output_type": "stream",
     "text": [
      "PHQ4 greater than 6 in precovid: 0.0\n",
      "PHQ4 greater than 6 in postcovid: 0.0\n"
     ]
    }
   ],
   "source": [
    "# PHQ4 > 6\n",
    "# https://www.oregonpainguidance.org/app/content/uploads/2016/05/PHQ-4.pdf\n",
    "# PHQ2 > 3\n",
    "# https://www.hiv.uw.edu/page/mental-health-screening/phq-2\n",
    "precovid_phq4_greater_than_6 = (\n",
    "    df[df[\"C\"] == COVIDStatus.PRE_COVID][\"Y3\"] > 6\n",
    ").sum() / len(df)\n",
    "\n",
    "postcovid_phq4_greater_than_6 = (\n",
    "    df[df[\"C\"] == COVIDStatus.POST_COVID][\"Y3\"] > 6\n",
    ").sum() / len(df)\n",
    "\n",
    "print(f\"PHQ4 greater than 6 in precovid: {precovid_phq4_greater_than_6}\")\n",
    "print(f\"PHQ4 greater than 6 in postcovid: {postcovid_phq4_greater_than_6}\")"
   ]
  },
  {
   "cell_type": "code",
   "execution_count": 20,
   "metadata": {},
   "outputs": [
    {
     "name": "stdout",
     "output_type": "stream",
     "text": [
      "precovid mean phq4: 1.28610677953516postcovid mean phq4: 1.3716596343178622\n"
     ]
    }
   ],
   "source": [
    "mean_precovid_phq4 = df[df[\"C\"] == COVIDStatus.PRE_COVID][\"Y3\"].mean()\n",
    "mean_postcovid_phq4 = df[df[\"C\"] == COVIDStatus.POST_COVID][\"Y3\"].mean()\n",
    "print(\n",
    "    f\"precovid mean phq4: {mean_precovid_phq4}\"\n",
    "    f\"postcovid mean phq4: {mean_postcovid_phq4}\"\n",
    ")"
   ]
  },
  {
   "cell_type": "code",
   "execution_count": 21,
   "metadata": {},
   "outputs": [
    {
     "name": "stdout",
     "output_type": "stream",
     "text": [
      "precovid mean phq2: 2.2610826464691467postcovid mean phq2: 2.6146272855133614\n"
     ]
    }
   ],
   "source": [
    "mean_precovid_phq2 = df[df[\"C\"] == COVIDStatus.PRE_COVID][\"Y2\"].mean()\n",
    "mean_postcovid_phq2 = df[df[\"C\"] == COVIDStatus.POST_COVID][\"Y2\"].mean()\n",
    "print(\n",
    "    f\"precovid mean phq2: {mean_precovid_phq2}\"\n",
    "    f\"postcovid mean phq2: {mean_postcovid_phq2}\"\n",
    ")"
   ]
  },
  {
   "cell_type": "code",
   "execution_count": 22,
   "metadata": {},
   "outputs": [],
   "source": [
    "for col in ema_dictionary.keys():\n",
    "    pre_and_post_distributions(df, col)"
   ]
  },
  {
   "cell_type": "code",
   "execution_count": null,
   "metadata": {},
   "outputs": [],
   "source": []
  }
 ],
 "metadata": {
  "kernelspec": {
   "display_name": ".venv",
   "language": "python",
   "name": "python3"
  },
  "language_info": {
   "codemirror_mode": {
    "name": "ipython",
    "version": 3
   },
   "file_extension": ".py",
   "mimetype": "text/x-python",
   "name": "python",
   "nbconvert_exporter": "python",
   "pygments_lexer": "ipython3",
   "version": "3.11.0"
  }
 },
 "nbformat": 4,
 "nbformat_minor": 2
}
